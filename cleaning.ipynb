{
 "cells": [
  {
   "cell_type": "code",
   "execution_count": 1,
   "metadata": {},
   "outputs": [],
   "source": [
    "%load_ext autoreload\n",
    "%autoreload 2"
   ]
  },
  {
   "cell_type": "code",
   "execution_count": 2,
   "metadata": {},
   "outputs": [
    {
     "data": {
      "text/plain": [
       "'/home/jovyan/work/Capstone_3/Skincare-Recommender'"
      ]
     },
     "execution_count": 2,
     "metadata": {},
     "output_type": "execute_result"
    }
   ],
   "source": [
    "# Import Modules\n",
    "from pprint import pprint\n",
    "import json\n",
    "from bs4 import BeautifulSoup\n",
    "from urllib.parse import urlencode\n",
    "import re\n",
    "\n",
    "from datetime import datetime, timedelta\n",
    "import dill\n",
    "import pandas as pd\n",
    "import numpy as np\n",
    "from matplotlib import pyplot as plt\n",
    "import matplotlib.patches as patches\n",
    "import mplcyberpunk\n",
    "import seaborn as sns\n",
    "import scipy as sp\n",
    "import scipy.stats as stats\n",
    "from typing import List, Dict, Callable\n",
    "\n",
    "# plt.style.use('ggplot')\n",
    "plt.style.use(\"cyberpunk\")\n",
    "\n",
    "import os\n",
    "os.getcwd()"
   ]
  },
  {
   "cell_type": "code",
   "execution_count": 3,
   "metadata": {},
   "outputs": [],
   "source": [
    "# Import Custom Modules\n",
    "from src.helpers import *\n",
    "from src.scrape_functions import *"
   ]
  },
  {
   "cell_type": "code",
   "execution_count": 4,
   "metadata": {},
   "outputs": [],
   "source": [
    "# Load Time Consuming Scraping Session Variables to Translate to DataFrames  \n",
    "dill.load_session('dill/notebook_env.db')\n",
    "\n",
    "# 1: Drunk Elephant - Protini Polypeptide Cream\n",
    "url_1, items_1, users_1 = item_1, item_info_1, user_info_1\n",
    "\n",
    "# 2: TATCHA - The Water Cream\n",
    "url_2, items_2, users_2 = item_2, item_info_2, user_info_2\n",
    "\n",
    "# 3: BELIF - The True Cream Aqua Bomb\n",
    "url_3, items_3, users_3 = item_3, item_info_3, user_info_3\n",
    "\n",
    "# 4: BOSCIA - Cactus Water Moisturizer\n",
    "url_4, items_4, users_4 = item_4, item_info_4, user_info_4\n",
    "\n",
    "# 5: OLEHENRIKSEN - C-Rush™ Vita\n",
    "url_5, items_5, users_5 = item_5, item_info_5, user_info_5\n",
    "\n",
    "# 6: CLINIQUE - Dramatically Different Moisturizing Gel\n",
    "url_6, items_6, users_6 = item_6, item_info_6, user_info_6\n",
    "\n",
    "# 7: ORIGINS - Ginzing Energy Boosting Gel Moisturizer\n",
    "url_7, items_7, users_7 = item_7, item_info_7, user_info_7\n",
    "\n",
    "# 8: JOSIE MARAN - 100 Percent Pure Argan Oil\n",
    "url_8, items_8, users_8 = item_8, item_info_8, user_info_8\n",
    "\n",
    "# 9: FIRST AID BEAUTY - Ultra Repair® Cream Intense Hydration\n",
    "url_9, items_9, users_9 = item_9, item_info_9, user_info_9\n",
    "\n",
    "# 10: Dr. Jart - Cicapair™ Tiger Grass Color Correcting Treatment\n",
    "url_10, items_10, users_10 = item_10, item_info_10, user_info_10\n",
    "\n",
    "item_urls = [url_1, url_2, url_3, url_4, url_5, url_6, url_7, url_8, url_9, url_10]\n",
    "item_collection = [items_1, items_2, items_3, items_4, items_5, items_6, items_7, items_8, items_9, items_10]\n",
    "user_collection = [users_1, users_2, users_3, users_4, users_5, users_6, users_7, users_8, users_9, users_10]"
   ]
  },
  {
   "cell_type": "code",
   "execution_count": 5,
   "metadata": {},
   "outputs": [],
   "source": [
    "# Fetch Prices!! Forgot this earlier\n",
    "prices = [\n",
    "    '$68.00',\n",
    "    '$68.00',\n",
    "    '$38.00',\n",
    "    '$38.00',\n",
    "    '$46.00',\n",
    "    '$28.00',\n",
    "    '$30.00',\n",
    "    '$49.00',\n",
    "    '$42.00',\n",
    "    '$52.00'\n",
    "]"
   ]
  },
  {
   "cell_type": "markdown",
   "metadata": {},
   "source": [
    "## Create Item DataFrame"
   ]
  },
  {
   "cell_type": "code",
   "execution_count": 6,
   "metadata": {},
   "outputs": [],
   "source": [
    "# Item Structure: item_url, item_brand, item_name, n_loves, avg_stars, ingredients, skin_target, n_reviews, five_stars, four_stars, three_stars, two_stars, one_stars, review_corpus"
   ]
  },
  {
   "cell_type": "code",
   "execution_count": 7,
   "metadata": {},
   "outputs": [],
   "source": [
    "# Create item dataframe\n",
    "item_df = pd.DataFrame({\n",
    "    'item_url':item_urls,\n",
    "    'item_brand':[x[0] for x in item_collection],\n",
    "    'item_name':[x[1] for x in item_collection],\n",
    "    'n_loves':[x[2] for x in item_collection],\n",
    "    'avg_stars':[x[3] for x in item_collection], \n",
    "    'ingredient':[x[4] for x in item_collection], \n",
    "    'skin_target':[x[5] for x in item_collection], \n",
    "    'n_reviews':[x[6] for x in item_collection], \n",
    "    'star_dist':[x[7] for x in item_collection],\n",
    "    'review_corp':[x[8] for x in item_collection]\n",
    "})\n",
    "\n",
    "# brand and name remaps\n",
    "item_names = item_df['item_name'].unique().tolist()\n",
    "name_map = dict(zip(item_names, [f'item_{i}' for i in range(1, len(item_names) + 1)]))\n",
    "item_brands = item_df['item_brand'].unique().tolist()\n",
    "brand_map = dict(zip(item_brands, [f'brand_{i}' for i in range(1, len(item_brands) + 1)]))"
   ]
  },
  {
   "cell_type": "code",
   "execution_count": 8,
   "metadata": {},
   "outputs": [],
   "source": [
    "# Remap items to numbers\n",
    "item_df['item_name'] = item_df['item_name'].map(name_map)\n",
    "\n",
    "# Remap brands to numbers\n",
    "item_df['item_brand'] = item_df['item_brand'].map(brand_map)"
   ]
  },
  {
   "cell_type": "code",
   "execution_count": 9,
   "metadata": {},
   "outputs": [],
   "source": [
    "# Add Granulated star distribution\n",
    "item_df['five_stars'] = item_df['star_dist'].apply(lambda x: int(x[0].partition(':')[2]))\n",
    "item_df['four_stars'] = item_df['star_dist'].apply(lambda x: int(x[1].partition(':')[2]))\n",
    "item_df['three_stars'] = item_df['star_dist'].apply(lambda x: int(x[2].partition(':')[2]))\n",
    "item_df['two_stars'] = item_df['star_dist'].apply(lambda x: int(x[3].partition(':')[2]))\n",
    "item_df['one_stars'] = item_df['star_dist'].apply(lambda x: int(x[4].partition(':')[2]))\n",
    "\n",
    "item_df.drop(columns=['star_dist'], inplace=True)"
   ]
  },
  {
   "cell_type": "code",
   "execution_count": 10,
   "metadata": {},
   "outputs": [],
   "source": [
    "# Cast n_loves, n_reviews, avg_stars as int\n",
    "item_df['n_loves'] = item_df['n_loves'].apply(lambda x: re_max(x, int))\n",
    "item_df['n_reviews'] = item_df['n_reviews'].apply(lambda x: re_max(x, int))\n",
    "item_df['avg_stars'] = item_df['avg_stars'].apply(lambda x: float(x.split()[0]))"
   ]
  },
  {
   "cell_type": "code",
   "execution_count": 11,
   "metadata": {},
   "outputs": [],
   "source": [
    "# Append prices \n",
    "item_df['price'] = [float(x.partition('$')[-1]) for x in prices]"
   ]
  },
  {
   "cell_type": "code",
   "execution_count": 12,
   "metadata": {},
   "outputs": [],
   "source": [
    "# Parse and Clean skin targets \n",
    "item_df['skin_target'] = item_df['skin_target'].apply(lambda x: [re_parse_str(x).lower() for x in x.split(' ') if re_parse_str(x)])"
   ]
  },
  {
   "cell_type": "code",
   "execution_count": 13,
   "metadata": {},
   "outputs": [],
   "source": [
    "# Clean reviews corpus\n",
    "item_df['review_corpus'] = item_df['review_corp'].apply(lambda x: [i.split('\\n') for i in x])\n",
    "item_df['review_corpus'] = item_df['review_corpus'].apply(lambda x: [parse_review_string(i) for i in x])\n",
    "\n",
    "item_df.drop(columns=['review_corp'], inplace=True)"
   ]
  },
  {
   "cell_type": "code",
   "execution_count": 14,
   "metadata": {},
   "outputs": [
    {
     "data": {
      "text/plain": [
       "['water/aqua/eau',\n",
       " 'dicaprylyl carbonate',\n",
       " 'glycerin',\n",
       " 'cetearyl alcohol',\n",
       " 'cetearyl olivate',\n",
       " 'sorbitan olivate',\n",
       " 'sclerocarya birrea seed oil',\n",
       " 'bacillus/soybean/ folic acid ferment extract',\n",
       " 'nymphaea alba root extract',\n",
       " 'sh-oligopeptide-1',\n",
       " 'sh-oligopeptide-2',\n",
       " 'sh-polypeptide-1',\n",
       " 'sh-polypeptide-9',\n",
       " 'sh-polypeptide-11',\n",
       " 'copper palmitoyl heptapeptide-14',\n",
       " 'heptapeptide-15 palmitate',\n",
       " 'palmitoyl tetrapeptide-7',\n",
       " 'palmitoyl tripeptide-1',\n",
       " 'alanine',\n",
       " 'arginine',\n",
       " 'glycine',\n",
       " 'histidine',\n",
       " 'isoleucine',\n",
       " 'phenylalanine',\n",
       " 'proline',\n",
       " 'serine',\n",
       " 'threonine',\n",
       " 'valine',\n",
       " 'acetyl glutamine',\n",
       " 'coconut alkanes',\n",
       " 'coco-caprylate/caprate',\n",
       " 'sodium hyaluronate',\n",
       " 'aspartic acid',\n",
       " 'linoleic acid',\n",
       " 'linolenic acid',\n",
       " 'lecithin',\n",
       " 'butylene glycol',\n",
       " 'polyvinyl alcohol',\n",
       " 'sodium lactate',\n",
       " 'sodium pca',\n",
       " 'pca',\n",
       " 'sorbitan isostearate',\n",
       " 'carbomer',\n",
       " 'polysorbate 20',\n",
       " 'polysorbate 60',\n",
       " 'lactic acid/glycolic acid copolymer',\n",
       " 'hydroxyethyl acrylate/sodium acryloyldimethyl taurate copolymer',\n",
       " 'xanthan gum',\n",
       " 'isomalt',\n",
       " '1',\n",
       " '2-hexanediol',\n",
       " 'caprylyl glycol',\n",
       " 'chlorphenesin',\n",
       " 'phenoxyethanol',\n",
       " 'tocopherol',\n",
       " 'sodium benzoate',\n",
       " 'phenylpropanol',\n",
       " 'glyceryl caprylate',\n",
       " 'symphytum officinale callus culture extract.']"
      ]
     },
     "execution_count": 14,
     "metadata": {},
     "output_type": "execute_result"
    }
   ],
   "source": [
    "# Parse ingredients\n",
    "item_df['ingredients'] = item_df['ingredient'].apply(lambda x: [x.strip().lower() for x in x.split(',')])\n",
    "item_df.drop(columns=['ingredient'], inplace=True)\n",
    "\n",
    "item_df['ingredients'][0]"
   ]
  },
  {
   "cell_type": "code",
   "execution_count": 15,
   "metadata": {},
   "outputs": [],
   "source": [
    "# item_df.head()"
   ]
  },
  {
   "cell_type": "markdown",
   "metadata": {},
   "source": [
    "## Create User DataFrame"
   ]
  },
  {
   "cell_type": "code",
   "execution_count": 16,
   "metadata": {},
   "outputs": [
    {
     "data": {
      "text/plain": [
       "['harleen253',\n",
       " 'Eye Color Brown\\nHair color Black\\nSkin Tone Medium\\nSkin Type Oily',\n",
       " '5 stars',\n",
       " '3 h ago\\nThis moisturizer has worked really well for my skin! I have combo skin and it doesn’t make me greasy. It keeps my skin plump and moisturized. I’ve gone through three of these now and how no intention of using any other moisturizer!\\nRecommends this product',\n",
       " 'Drunk Elephant',\n",
       " 'Protini™ Polypeptide Moisturizer']"
      ]
     },
     "execution_count": 16,
     "metadata": {},
     "output_type": "execute_result"
    }
   ],
   "source": [
    "# User Structure: item_url, item_brand, item_name ,user_id, user_meta, rating, review\n",
    "user_collection[0][0] # id, meta, rating, reivew, brand, item_name"
   ]
  },
  {
   "cell_type": "code",
   "execution_count": 17,
   "metadata": {},
   "outputs": [],
   "source": [
    "# Create user dataframe\n",
    "user_df = pd.DataFrame({\n",
    "    'user_id':[x[0] for product in user_collection for x in product],\n",
    "    'user_meta':[x[1] for product in user_collection for x in product], \n",
    "    'star_rating':[x[2] for product in user_collection for x in product], \n",
    "    'review':[x[3] for product in user_collection for x in product],\n",
    "    'item_brand':[x[4] for product in user_collection for x in product],\n",
    "    'item_name':[x[5] for product in user_collection for x in product],\n",
    "})"
   ]
  },
  {
   "cell_type": "code",
   "execution_count": 18,
   "metadata": {},
   "outputs": [],
   "source": [
    "# Granulate and Clean User Data\n",
    "\n",
    "# Cast star rating to int\n",
    "user_df['star_rating'] = user_df['star_rating'].apply(lambda x: re_max(x, int) if type(x) != int else x)\n",
    "\n",
    "# Remap items to numbers\n",
    "user_df['item_name'] = user_df['item_name'].map(name_map)\n",
    "\n",
    "# Remap brands to numbers\n",
    "user_df['item_brand'] = user_df['item_brand'].map(brand_map)\n"
   ]
  },
  {
   "cell_type": "code",
   "execution_count": 19,
   "metadata": {},
   "outputs": [],
   "source": [
    "# Create dict from user meta info\n",
    "user_df['user_meta'] = user_df['user_meta'].apply(parse_user_meta)"
   ]
  },
  {
   "cell_type": "code",
   "execution_count": 20,
   "metadata": {},
   "outputs": [],
   "source": [
    "# Granulate User Meta\n",
    "user_df['age'] = user_df['user_meta'].apply(lambda x: x.get('age', None))\n",
    "user_df['eye_color'] = user_df['user_meta'].apply(lambda x: x.get('eye color', None))\n",
    "user_df['hair_color'] = user_df['user_meta'].apply(lambda x: x.get('hair color', None))\n",
    "user_df['skin_tone'] = user_df['user_meta'].apply(lambda x: x.get('skin tone', None))\n",
    "user_df['skin_type'] = user_df['user_meta'].apply(lambda x: x.get('skin type', None))\n",
    "\n",
    "user_df.drop(columns=['user_meta'], inplace=True)"
   ]
  },
  {
   "cell_type": "code",
   "execution_count": 21,
   "metadata": {},
   "outputs": [],
   "source": [
    "# Create timestamp element \n",
    "user_df['timestamp'] = user_df['review'].apply(lambda x: x.split('\\n')[0])\n",
    "# Convert and standardize all timestamps\n",
    "user_df['timestamp'] = user_df['timestamp'].apply(create_timestamp)"
   ]
  },
  {
   "cell_type": "code",
   "execution_count": 22,
   "metadata": {},
   "outputs": [],
   "source": [
    "# Create 'verified' feature\n",
    "user_df['verified'] = user_df['review'].apply(lambda x: 1 if 'verified' in x.split('\\n')[0].lower() else 0)"
   ]
  },
  {
   "cell_type": "code",
   "execution_count": 23,
   "metadata": {},
   "outputs": [],
   "source": [
    "# Clean reviews corpus\n",
    "reviews = user_df['review'].apply(lambda x: parse_review_string(x.split('\\n')))\n",
    "user_df['review'] = reviews"
   ]
  },
  {
   "cell_type": "code",
   "execution_count": 24,
   "metadata": {},
   "outputs": [
    {
     "name": "stdout",
     "output_type": "stream",
     "text": [
      "<class 'pandas.core.frame.DataFrame'>\n",
      "RangeIndex: 20000 entries, 0 to 19999\n",
      "Data columns (total 12 columns):\n",
      " #   Column       Non-Null Count  Dtype         \n",
      "---  ------       --------------  -----         \n",
      " 0   user_id      20000 non-null  object        \n",
      " 1   star_rating  20000 non-null  int64         \n",
      " 2   review       20000 non-null  object        \n",
      " 3   item_brand   20000 non-null  object        \n",
      " 4   item_name    20000 non-null  object        \n",
      " 5   age          14432 non-null  object        \n",
      " 6   eye_color    14432 non-null  object        \n",
      " 7   hair_color   14432 non-null  object        \n",
      " 8   skin_tone    14432 non-null  object        \n",
      " 9   skin_type    14432 non-null  object        \n",
      " 10  timestamp    20000 non-null  datetime64[ns]\n",
      " 11  verified     20000 non-null  int64         \n",
      "dtypes: datetime64[ns](1), int64(2), object(9)\n",
      "memory usage: 1.8+ MB\n"
     ]
    }
   ],
   "source": [
    "user_df.info()"
   ]
  },
  {
   "cell_type": "code",
   "execution_count": 25,
   "metadata": {},
   "outputs": [
    {
     "data": {
      "text/html": [
       "<div>\n",
       "<style scoped>\n",
       "    .dataframe tbody tr th:only-of-type {\n",
       "        vertical-align: middle;\n",
       "    }\n",
       "\n",
       "    .dataframe tbody tr th {\n",
       "        vertical-align: top;\n",
       "    }\n",
       "\n",
       "    .dataframe thead th {\n",
       "        text-align: right;\n",
       "    }\n",
       "</style>\n",
       "<table border=\"1\" class=\"dataframe\">\n",
       "  <thead>\n",
       "    <tr style=\"text-align: right;\">\n",
       "      <th></th>\n",
       "      <th>user_id</th>\n",
       "      <th>star_rating</th>\n",
       "      <th>review</th>\n",
       "      <th>item_brand</th>\n",
       "      <th>item_name</th>\n",
       "      <th>age</th>\n",
       "      <th>eye_color</th>\n",
       "      <th>hair_color</th>\n",
       "      <th>skin_tone</th>\n",
       "      <th>skin_type</th>\n",
       "      <th>timestamp</th>\n",
       "      <th>verified</th>\n",
       "    </tr>\n",
       "  </thead>\n",
       "  <tbody>\n",
       "    <tr>\n",
       "      <th>0</th>\n",
       "      <td>harleen253</td>\n",
       "      <td>5</td>\n",
       "      <td>This moisturizer has worked really well for my...</td>\n",
       "      <td>brand_1</td>\n",
       "      <td>item_1</td>\n",
       "      <td>None</td>\n",
       "      <td>brown</td>\n",
       "      <td>black</td>\n",
       "      <td>medium</td>\n",
       "      <td>oily</td>\n",
       "      <td>2020-06-04 21:00:00</td>\n",
       "      <td>0</td>\n",
       "    </tr>\n",
       "    <tr>\n",
       "      <th>1</th>\n",
       "      <td>supremekaylap15</td>\n",
       "      <td>2</td>\n",
       "      <td>Soooo at first when I started using this, it b...</td>\n",
       "      <td>brand_1</td>\n",
       "      <td>item_1</td>\n",
       "      <td>None</td>\n",
       "      <td>hazel</td>\n",
       "      <td>brunette</td>\n",
       "      <td>medium</td>\n",
       "      <td>dry</td>\n",
       "      <td>2020-06-04 10:00:00</td>\n",
       "      <td>0</td>\n",
       "    </tr>\n",
       "    <tr>\n",
       "      <th>2</th>\n",
       "      <td>Alybug97</td>\n",
       "      <td>4</td>\n",
       "      <td>This is my go-to moisturizer. I have dry skin ...</td>\n",
       "      <td>brand_1</td>\n",
       "      <td>item_1</td>\n",
       "      <td>None</td>\n",
       "      <td>brown</td>\n",
       "      <td>black</td>\n",
       "      <td>medium</td>\n",
       "      <td>combination</td>\n",
       "      <td>2020-06-04 09:00:00</td>\n",
       "      <td>0</td>\n",
       "    </tr>\n",
       "    <tr>\n",
       "      <th>3</th>\n",
       "      <td>Mikachew</td>\n",
       "      <td>2</td>\n",
       "      <td>I got this as part of the birthday gift and us...</td>\n",
       "      <td>brand_1</td>\n",
       "      <td>item_1</td>\n",
       "      <td>None</td>\n",
       "      <td>None</td>\n",
       "      <td>None</td>\n",
       "      <td>None</td>\n",
       "      <td>None</td>\n",
       "      <td>2020-06-04 09:00:00</td>\n",
       "      <td>0</td>\n",
       "    </tr>\n",
       "    <tr>\n",
       "      <th>4</th>\n",
       "      <td>jkbean</td>\n",
       "      <td>2</td>\n",
       "      <td>Alright. I bought this because I loved the tri...</td>\n",
       "      <td>brand_1</td>\n",
       "      <td>item_1</td>\n",
       "      <td>None</td>\n",
       "      <td>blue</td>\n",
       "      <td>blonde</td>\n",
       "      <td>fair</td>\n",
       "      <td>normal</td>\n",
       "      <td>2020-06-04 00:00:00</td>\n",
       "      <td>0</td>\n",
       "    </tr>\n",
       "  </tbody>\n",
       "</table>\n",
       "</div>"
      ],
      "text/plain": [
       "           user_id  star_rating  \\\n",
       "0       harleen253            5   \n",
       "1  supremekaylap15            2   \n",
       "2         Alybug97            4   \n",
       "3         Mikachew            2   \n",
       "4           jkbean            2   \n",
       "\n",
       "                                              review item_brand item_name  \\\n",
       "0  This moisturizer has worked really well for my...    brand_1    item_1   \n",
       "1  Soooo at first when I started using this, it b...    brand_1    item_1   \n",
       "2  This is my go-to moisturizer. I have dry skin ...    brand_1    item_1   \n",
       "3  I got this as part of the birthday gift and us...    brand_1    item_1   \n",
       "4  Alright. I bought this because I loved the tri...    brand_1    item_1   \n",
       "\n",
       "    age eye_color hair_color skin_tone     skin_type           timestamp  \\\n",
       "0  None     brown      black    medium          oily 2020-06-04 21:00:00   \n",
       "1  None     hazel   brunette    medium           dry 2020-06-04 10:00:00   \n",
       "2  None     brown      black    medium   combination 2020-06-04 09:00:00   \n",
       "3  None      None       None      None          None 2020-06-04 09:00:00   \n",
       "4  None      blue     blonde      fair        normal 2020-06-04 00:00:00   \n",
       "\n",
       "   verified  \n",
       "0         0  \n",
       "1         0  \n",
       "2         0  \n",
       "3         0  \n",
       "4         0  "
      ]
     },
     "execution_count": 25,
     "metadata": {},
     "output_type": "execute_result"
    }
   ],
   "source": [
    "user_df.head()"
   ]
  },
  {
   "cell_type": "code",
   "execution_count": 26,
   "metadata": {},
   "outputs": [
    {
     "name": "stdout",
     "output_type": "stream",
     "text": [
      "<class 'pandas.core.frame.DataFrame'>\n",
      "RangeIndex: 10 entries, 0 to 9\n",
      "Data columns (total 15 columns):\n",
      " #   Column         Non-Null Count  Dtype  \n",
      "---  ------         --------------  -----  \n",
      " 0   item_url       10 non-null     object \n",
      " 1   item_brand     10 non-null     object \n",
      " 2   item_name      10 non-null     object \n",
      " 3   n_loves        10 non-null     int64  \n",
      " 4   avg_stars      10 non-null     float64\n",
      " 5   skin_target    10 non-null     object \n",
      " 6   n_reviews      10 non-null     int64  \n",
      " 7   five_stars     10 non-null     int64  \n",
      " 8   four_stars     10 non-null     int64  \n",
      " 9   three_stars    10 non-null     int64  \n",
      " 10  two_stars      10 non-null     int64  \n",
      " 11  one_stars      10 non-null     int64  \n",
      " 12  price          10 non-null     float64\n",
      " 13  review_corpus  10 non-null     object \n",
      " 14  ingredients    10 non-null     object \n",
      "dtypes: float64(2), int64(7), object(6)\n",
      "memory usage: 1.3+ KB\n"
     ]
    }
   ],
   "source": [
    "item_df.info()"
   ]
  },
  {
   "cell_type": "code",
   "execution_count": 27,
   "metadata": {},
   "outputs": [
    {
     "data": {
      "text/html": [
       "<div>\n",
       "<style scoped>\n",
       "    .dataframe tbody tr th:only-of-type {\n",
       "        vertical-align: middle;\n",
       "    }\n",
       "\n",
       "    .dataframe tbody tr th {\n",
       "        vertical-align: top;\n",
       "    }\n",
       "\n",
       "    .dataframe thead th {\n",
       "        text-align: right;\n",
       "    }\n",
       "</style>\n",
       "<table border=\"1\" class=\"dataframe\">\n",
       "  <thead>\n",
       "    <tr style=\"text-align: right;\">\n",
       "      <th></th>\n",
       "      <th>item_url</th>\n",
       "      <th>item_brand</th>\n",
       "      <th>item_name</th>\n",
       "      <th>n_loves</th>\n",
       "      <th>avg_stars</th>\n",
       "      <th>skin_target</th>\n",
       "      <th>n_reviews</th>\n",
       "      <th>five_stars</th>\n",
       "      <th>four_stars</th>\n",
       "      <th>three_stars</th>\n",
       "      <th>two_stars</th>\n",
       "      <th>one_stars</th>\n",
       "      <th>price</th>\n",
       "      <th>review_corpus</th>\n",
       "      <th>ingredients</th>\n",
       "    </tr>\n",
       "  </thead>\n",
       "  <tbody>\n",
       "    <tr>\n",
       "      <th>0</th>\n",
       "      <td>https://www.sephora.com/product/protini-tm-pol...</td>\n",
       "      <td>brand_1</td>\n",
       "      <td>item_1</td>\n",
       "      <td>259473</td>\n",
       "      <td>4.0</td>\n",
       "      <td>[normal, dry, combination, and, oily]</td>\n",
       "      <td>4395</td>\n",
       "      <td>2557</td>\n",
       "      <td>540</td>\n",
       "      <td>402</td>\n",
       "      <td>405</td>\n",
       "      <td>491</td>\n",
       "      <td>68.0</td>\n",
       "      <td>[Soooo at first when I started using this, it ...</td>\n",
       "      <td>[water/aqua/eau, dicaprylyl carbonate, glyceri...</td>\n",
       "    </tr>\n",
       "    <tr>\n",
       "      <th>1</th>\n",
       "      <td>https://www.sephora.com/product/the-water-crea...</td>\n",
       "      <td>brand_2</td>\n",
       "      <td>item_2</td>\n",
       "      <td>233187</td>\n",
       "      <td>4.0</td>\n",
       "      <td>[normal, oily, combination, sensitive]</td>\n",
       "      <td>3030</td>\n",
       "      <td>1817</td>\n",
       "      <td>392</td>\n",
       "      <td>307</td>\n",
       "      <td>232</td>\n",
       "      <td>282</td>\n",
       "      <td>68.0</td>\n",
       "      <td>[The gold spatula changed my life - I can't be...</td>\n",
       "      <td>[water, saccharomyces/camellia sinensis leaf/c...</td>\n",
       "    </tr>\n",
       "    <tr>\n",
       "      <th>2</th>\n",
       "      <td>https://www.sephora.com/product/the-true-cream...</td>\n",
       "      <td>brand_3</td>\n",
       "      <td>item_3</td>\n",
       "      <td>191092</td>\n",
       "      <td>4.5</td>\n",
       "      <td>[normal, dry, combination, and, oily]</td>\n",
       "      <td>4527</td>\n",
       "      <td>3276</td>\n",
       "      <td>665</td>\n",
       "      <td>246</td>\n",
       "      <td>173</td>\n",
       "      <td>167</td>\n",
       "      <td>38.0</td>\n",
       "      <td>[Completely wrong for combo/oily skin. This ca...</td>\n",
       "      <td>[water, dipropylene glycol, glycerin, methl tr...</td>\n",
       "    </tr>\n",
       "    <tr>\n",
       "      <th>3</th>\n",
       "      <td>https://www.sephora.com/product/cactus-water-m...</td>\n",
       "      <td>brand_4</td>\n",
       "      <td>item_4</td>\n",
       "      <td>26641</td>\n",
       "      <td>4.0</td>\n",
       "      <td>[normal, combination, and, oily]</td>\n",
       "      <td>2221</td>\n",
       "      <td>1263</td>\n",
       "      <td>538</td>\n",
       "      <td>178</td>\n",
       "      <td>108</td>\n",
       "      <td>134</td>\n",
       "      <td>38.0</td>\n",
       "      <td>[The BEST moisturizer if you’re trying to impr...</td>\n",
       "      <td>[water, butylene glycol, glycerin, cyclopentas...</td>\n",
       "    </tr>\n",
       "    <tr>\n",
       "      <th>4</th>\n",
       "      <td>https://www.sephora.com/product/dramatically-d...</td>\n",
       "      <td>brand_5</td>\n",
       "      <td>item_5</td>\n",
       "      <td>80124</td>\n",
       "      <td>4.5</td>\n",
       "      <td>[normal, oily, combination, dry, sensitive]</td>\n",
       "      <td>2619</td>\n",
       "      <td>1721</td>\n",
       "      <td>565</td>\n",
       "      <td>151</td>\n",
       "      <td>85</td>\n",
       "      <td>97</td>\n",
       "      <td>46.0</td>\n",
       "      <td>[It has a great orangey smell and it did hydra...</td>\n",
       "      <td>[sources of vitamin c:]</td>\n",
       "    </tr>\n",
       "  </tbody>\n",
       "</table>\n",
       "</div>"
      ],
      "text/plain": [
       "                                            item_url item_brand item_name  \\\n",
       "0  https://www.sephora.com/product/protini-tm-pol...    brand_1    item_1   \n",
       "1  https://www.sephora.com/product/the-water-crea...    brand_2    item_2   \n",
       "2  https://www.sephora.com/product/the-true-cream...    brand_3    item_3   \n",
       "3  https://www.sephora.com/product/cactus-water-m...    brand_4    item_4   \n",
       "4  https://www.sephora.com/product/dramatically-d...    brand_5    item_5   \n",
       "\n",
       "   n_loves  avg_stars                                  skin_target  n_reviews  \\\n",
       "0   259473        4.0        [normal, dry, combination, and, oily]       4395   \n",
       "1   233187        4.0       [normal, oily, combination, sensitive]       3030   \n",
       "2   191092        4.5        [normal, dry, combination, and, oily]       4527   \n",
       "3    26641        4.0             [normal, combination, and, oily]       2221   \n",
       "4    80124        4.5  [normal, oily, combination, dry, sensitive]       2619   \n",
       "\n",
       "   five_stars  four_stars  three_stars  two_stars  one_stars  price  \\\n",
       "0        2557         540          402        405        491   68.0   \n",
       "1        1817         392          307        232        282   68.0   \n",
       "2        3276         665          246        173        167   38.0   \n",
       "3        1263         538          178        108        134   38.0   \n",
       "4        1721         565          151         85         97   46.0   \n",
       "\n",
       "                                       review_corpus  \\\n",
       "0  [Soooo at first when I started using this, it ...   \n",
       "1  [The gold spatula changed my life - I can't be...   \n",
       "2  [Completely wrong for combo/oily skin. This ca...   \n",
       "3  [The BEST moisturizer if you’re trying to impr...   \n",
       "4  [It has a great orangey smell and it did hydra...   \n",
       "\n",
       "                                         ingredients  \n",
       "0  [water/aqua/eau, dicaprylyl carbonate, glyceri...  \n",
       "1  [water, saccharomyces/camellia sinensis leaf/c...  \n",
       "2  [water, dipropylene glycol, glycerin, methl tr...  \n",
       "3  [water, butylene glycol, glycerin, cyclopentas...  \n",
       "4                            [sources of vitamin c:]  "
      ]
     },
     "execution_count": 27,
     "metadata": {},
     "output_type": "execute_result"
    }
   ],
   "source": [
    "item_df.head()"
   ]
  },
  {
   "cell_type": "code",
   "execution_count": 28,
   "metadata": {},
   "outputs": [
    {
     "data": {
      "text/plain": [
       "'This moisturizer has worked really well for my skin! I have combo skin and it doesn’t make me greasy. It keeps my skin plump and moisturized. I’ve gone through three of these now and how no intention of using any other moisturizer!'"
      ]
     },
     "execution_count": 28,
     "metadata": {},
     "output_type": "execute_result"
    }
   ],
   "source": [
    "user_df['review'][0]"
   ]
  },
  {
   "cell_type": "code",
   "execution_count": 29,
   "metadata": {},
   "outputs": [],
   "source": [
    "# Write to csv file\n",
    "item_df.to_csv('data/item_df.csv')\n",
    "user_df.to_csv('data/user_df.csv')"
   ]
  }
 ],
 "metadata": {
  "kernelspec": {
   "display_name": "Python 3",
   "language": "python",
   "name": "python3"
  },
  "language_info": {
   "codemirror_mode": {
    "name": "ipython",
    "version": 3
   },
   "file_extension": ".py",
   "mimetype": "text/x-python",
   "name": "python",
   "nbconvert_exporter": "python",
   "pygments_lexer": "ipython3",
   "version": "3.7.6"
  }
 },
 "nbformat": 4,
 "nbformat_minor": 4
}

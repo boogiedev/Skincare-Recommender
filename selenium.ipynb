{
 "cells": [
  {
   "cell_type": "code",
   "execution_count": 1,
   "metadata": {},
   "outputs": [],
   "source": [
    "# Auto Reload\n",
    "%load_ext autoreload\n",
    "%autoreload 2"
   ]
  },
  {
   "cell_type": "code",
   "execution_count": 32,
   "metadata": {},
   "outputs": [],
   "source": [
    "# Import Modules\n",
    "import numpy as np\n",
    "import copy\n",
    "import pandas as pd\n",
    "import json\n",
    "import requests\n",
    "from bs4 import BeautifulSoup\n",
    "from pprint import pprint\n",
    "from selenium import webdriver\n",
    "from selenium.webdriver.chrome.options import Options\n",
    "from selenium.webdriver.common.keys import Keys\n",
    "from bs4 import BeautifulSoup\n",
    "import re\n",
    "import os\n",
    "import time"
   ]
  },
  {
   "cell_type": "code",
   "execution_count": 25,
   "metadata": {},
   "outputs": [],
   "source": [
    "url = 'https://www.sephora.com/product/protini-tm-polypeptide-cream-P427421'"
   ]
  },
  {
   "cell_type": "code",
   "execution_count": 187,
   "metadata": {},
   "outputs": [],
   "source": [
    "chrome_options = Options()  \n",
    "# chrome_options.add_argument(\"--headless\")\n",
    "driver = webdriver.Chrome(options=chrome_options)\n",
    "driver.get(url)\n",
    "driver.execute_script(\"window.scrollTo(0, document.body.scrollHeight);\")\n",
    "time.sleep(1)\n",
    "driver.execute_script(\"window.scrollTo(0, document.body.scrollHeight);\")\n",
    "time.sleep(2)\n",
    "page = driver.page_source\n",
    "driver.close()\n",
    "driver.quit()"
   ]
  },
  {
   "cell_type": "code",
   "execution_count": 188,
   "metadata": {},
   "outputs": [],
   "source": [
    "html = BeautifulSoup(page, 'html.parser')"
   ]
  },
  {
   "cell_type": "code",
   "execution_count": 189,
   "metadata": {},
   "outputs": [],
   "source": [
    "z = html.findAll('div', {'data-sephid':'5'})"
   ]
  },
  {
   "cell_type": "code",
   "execution_count": 201,
   "metadata": {},
   "outputs": [
    {
     "data": {
      "text/plain": [
       "'4 stars'"
      ]
     },
     "execution_count": 201,
     "metadata": {},
     "output_type": "execute_result"
    }
   ],
   "source": [
    "page = requests.get('https://www.sephora.com/product/protini-tm-polypeptide-cream-P427421?icid2=products%20grid:p427421')\n",
    "html = BeautifulSoup(page.text, 'html.parser')\n",
    "stars = html.find(\"div\", {'data-comp':\"StarRating \"})['aria-label']\n",
    "stars"
   ]
  },
  {
   "cell_type": "code",
   "execution_count": 199,
   "metadata": {},
   "outputs": [
    {
     "ename": "AttributeError",
     "evalue": "'NoneType' object has no attribute 'span'",
     "output_type": "error",
     "traceback": [
      "\u001b[0;31m---------------------------------------------------------------------------\u001b[0m",
      "\u001b[0;31mAttributeError\u001b[0m                            Traceback (most recent call last)",
      "\u001b[0;32m<ipython-input-199-e01a4776f565>\u001b[0m in \u001b[0;36m<module>\u001b[0;34m\u001b[0m\n\u001b[1;32m      2\u001b[0m \u001b[0mhtml\u001b[0m \u001b[0;34m=\u001b[0m \u001b[0mBeautifulSoup\u001b[0m\u001b[0;34m(\u001b[0m\u001b[0mpage\u001b[0m\u001b[0;34m.\u001b[0m\u001b[0mtext\u001b[0m\u001b[0;34m,\u001b[0m \u001b[0;34m'html.parser'\u001b[0m\u001b[0;34m)\u001b[0m\u001b[0;34m\u001b[0m\u001b[0;34m\u001b[0m\u001b[0m\n\u001b[1;32m      3\u001b[0m \u001b[0mreview_score\u001b[0m \u001b[0;34m=\u001b[0m \u001b[0mhtml\u001b[0m\u001b[0;34m.\u001b[0m\u001b[0mfind\u001b[0m\u001b[0;34m(\u001b[0m\u001b[0;34m\"div\"\u001b[0m\u001b[0;34m,\u001b[0m \u001b[0;34m{\u001b[0m\u001b[0;34m'data-comp'\u001b[0m\u001b[0;34m:\u001b[0m\u001b[0;34m\"ReviewsStats Box \"\u001b[0m\u001b[0;34m}\u001b[0m\u001b[0;34m)\u001b[0m\u001b[0;34m\u001b[0m\u001b[0;34m\u001b[0m\u001b[0m\n\u001b[0;32m----> 4\u001b[0;31m \u001b[0mreview_score\u001b[0m\u001b[0;34m.\u001b[0m\u001b[0mspan\u001b[0m\u001b[0;34m.\u001b[0m\u001b[0mget_text\u001b[0m\u001b[0;34m(\u001b[0m\u001b[0;34m)\u001b[0m\u001b[0;34m\u001b[0m\u001b[0;34m\u001b[0m\u001b[0m\n\u001b[0m",
      "\u001b[0;31mAttributeError\u001b[0m: 'NoneType' object has no attribute 'span'"
     ]
    }
   ],
   "source": [
    "review_score = html.find(\"div\", {'data-comp':\"ReviewsStats Box \"})\n",
    "review_score.span.get_text()"
   ]
  },
  {
   "cell_type": "code",
   "execution_count": 185,
   "metadata": {},
   "outputs": [
    {
     "data": {
      "text/plain": [
       "['Water',\n",
       " 'Saccharomyces/Camellia Sinensis Leaf/Cladosiphon Okamuranus/Rice Ferment Filtrate*',\n",
       " 'Dimethicone',\n",
       " 'Propanediol',\n",
       " 'Glycerin',\n",
       " 'Diglycerin',\n",
       " 'Diphenylsiloxy Phenyl Trimethicone',\n",
       " 'Gold',\n",
       " 'Belamcanda Chinensis Root Extract',\n",
       " 'Rosa Multiflora Fruit Extract',\n",
       " 'Houttuynia Cordata Extract',\n",
       " 'Sophora Angustifolia Root Extract',\n",
       " 'Sodium Hyaluronate',\n",
       " 'Lecithin',\n",
       " 'Pistacia Lentiscus (Mastic) Gum',\n",
       " 'Sodium Chloride',\n",
       " 'Sodium Citrate',\n",
       " 'Mica',\n",
       " 'Peg-9 Polydimethylsiloxyethyl Dimethicone',\n",
       " 'Dimethicone/Peg-10/15 Crosspolymer',\n",
       " 'Dimethicone/Phenyl Vinyl Dimethicone Crosspolymer',\n",
       " 'Disodium Edta',\n",
       " 'Tin Oxide',\n",
       " 'Titanium Dioxide',\n",
       " 'Butylene Glycol',\n",
       " 'Ethylhexylglycerin',\n",
       " 'Parfum/Fragrance',\n",
       " 'Alcohol',\n",
       " 'Phenoxyethanol. *Hadasei-3.\\r\\n']"
      ]
     },
     "execution_count": 185,
     "metadata": {},
     "output_type": "execute_result"
    }
   ],
   "source": [
    "page = requests.get('https://www.sephora.com/product/protini-tm-polypeptide-cream-P427421?icid2=products%20grid:p427421')\n",
    "html = BeautifulSoup(page.text, 'html.parser')\n",
    "skin_type = html.find('div', {'data-at':'product_tabs_section'})\n",
    "ingredients = skin_type.findAll('div', {'aria-labelledby':True})[2]\n",
    "\n",
    "splitted = ingredients.get_text(strip=False, separator=' |$%&*$| ')\n",
    "\n",
    "splitted.split(' |$%&*$| ')[3].split(', ')"
   ]
  },
  {
   "cell_type": "code",
   "execution_count": 208,
   "metadata": {},
   "outputs": [],
   "source": [
    "# Parse for item features\n",
    "def get_static_meta(item_url:str) -> dict:\n",
    "    '''Returns item/product features from static section of given sephora url'''\n",
    "    # GET Request to URL\n",
    "    page = requests.get(item_url)\n",
    "    # Create BS4 Object\n",
    "    html = BeautifulSoup(page.text, \"html.parser\")\n",
    "    \n",
    "    # Find Name and Brand\n",
    "    brand, name = (x.get_text() for x in html.find(\"h1\", attrs={\"data-comp\":True}))\n",
    "    \n",
    "    # Find n_loves (product likes)\n",
    "    n_loves = html.find('span', attrs={\"data-at\":\"product_love_count\"}).get_text()\n",
    "    \n",
    "    stars = html.find(\"div\", {'data-comp':\"StarRating \"})['aria-label']\n",
    "    \n",
    "    return brand, name, n_loves, stars"
   ]
  },
  {
   "cell_type": "code",
   "execution_count": 97,
   "metadata": {},
   "outputs": [],
   "source": [
    "def get_dynamic_meta(url:str) -> tuple:\n",
    "    '''Returns item/product features from scoll-loaded section of given sephora url'''\n",
    "    # Init Chrome Driver Options\n",
    "    chrome_options = Options()  \n",
    "    # Run headless arg to avoid GUI\n",
    "    chrome_options.add_argument(\"--headless\")\n",
    "    # Init Driver Instance -> load options\n",
    "    driver = webdriver.Chrome(options=chrome_options)\n",
    "    \n",
    "    # Call url via driver\n",
    "    driver.get(url)\n",
    "    # Scroll down to load REVEIW section\n",
    "    driver.execute_script(\"window.scrollTo(0, document.body.scrollHeight);\")\n",
    "    time.sleep(2)\n",
    "    driver.execute_script(\"window.scrollTo(0, document.body.scrollHeight);\")\n",
    "    time.sleep(5)\n",
    "    page = driver.page_source\n",
    "    driver.close()\n",
    "    driver.quit()\n",
    "    \n",
    "    "
   ]
  },
  {
   "cell_type": "code",
   "execution_count": 98,
   "metadata": {},
   "outputs": [],
   "source": [
    "# brand, name, n_loves = get_static_meta('https://www.sephora.com/product/protini-tm-polypeptide-cream-P427421')\n",
    "\n",
    "# brand, name, n_loves"
   ]
  },
  {
   "cell_type": "code",
   "execution_count": 99,
   "metadata": {},
   "outputs": [],
   "source": [
    "get_dynamic_meta(url)"
   ]
  },
  {
   "cell_type": "code",
   "execution_count": 210,
   "metadata": {},
   "outputs": [],
   "source": [
    "def sephora_scrape(url:str) -> dict:\n",
    "    '''Returns dictionary of needed features parsed from sephora.com link using selenium for dynamic page loading'''\n",
    "    # Statically scrape product meta info\n",
    "    brand, name, n_loves, stars = get_static_meta(url) \n",
    "    \n",
    "    # Dynamically scrape product review section\n",
    "    "
   ]
  },
  {
   "cell_type": "code",
   "execution_count": 211,
   "metadata": {},
   "outputs": [],
   "source": [
    "x, y, z, sephora_scrape('https://www.sephora.com/product/the-water-cream-P418218?icid2=products%20grid:p418218')"
   ]
  }
 ],
 "metadata": {
  "kernelspec": {
   "display_name": "Python 3",
   "language": "python",
   "name": "python3"
  },
  "language_info": {
   "codemirror_mode": {
    "name": "ipython",
    "version": 3
   },
   "file_extension": ".py",
   "mimetype": "text/x-python",
   "name": "python",
   "nbconvert_exporter": "python",
   "pygments_lexer": "ipython3",
   "version": "3.7.6"
  }
 },
 "nbformat": 4,
 "nbformat_minor": 4
}

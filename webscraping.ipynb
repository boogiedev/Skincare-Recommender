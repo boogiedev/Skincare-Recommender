{
 "cells": [
  {
   "cell_type": "code",
   "execution_count": 1,
   "metadata": {},
   "outputs": [],
   "source": [
    "# Auto Reload\n",
    "%load_ext autoreload\n",
    "%autoreload 2"
   ]
  },
  {
   "cell_type": "code",
   "execution_count": 2,
   "metadata": {},
   "outputs": [],
   "source": [
    "# Import Modules\n",
    "import numpy as np\n",
    "import copy\n",
    "import pandas as pd\n",
    "import json\n",
    "import requests\n",
    "from bs4 import BeautifulSoup\n",
    "from pprint import pprint"
   ]
  },
  {
   "cell_type": "code",
   "execution_count": 3,
   "metadata": {},
   "outputs": [],
   "source": [
    "# Import Custom Modules\n",
    "from src.helpers import *"
   ]
  },
  {
   "cell_type": "markdown",
   "metadata": {},
   "source": [
    "# Scope Data"
   ]
  },
  {
   "cell_type": "markdown",
   "metadata": {},
   "source": [
    "## Test Product\n",
    "\n",
    "**DRUNK ELEPHANT Protini Polypeptide Moisturizer** \n",
    "\n",
    "- URL: https://www.sephora.com/product/protini-tm-polypeptide-cream-P427421?icid2=products%20grid:p427421\n",
    "\n",
    "<!-- ![Drunk Elephant Protini](./media/previews/de_protini_preview.png) -->\n",
    "\n",
    "<img src='./media/previews/de_protini_preview.png' width='700'/>"
   ]
  },
  {
   "cell_type": "code",
   "execution_count": 4,
   "metadata": {},
   "outputs": [],
   "source": [
    "# Drunk Elephant Protini URL\n",
    "product_url = 'https://www.sephora.com/product/protini-tm-polypeptide-cream-P427421?icid2=products%20grid:p427421'"
   ]
  },
  {
   "cell_type": "markdown",
   "metadata": {},
   "source": [
    "## Parse needed items from response"
   ]
  },
  {
   "cell_type": "markdown",
   "metadata": {},
   "source": [
    "### ITEM FEATURES:\n",
    "\n",
    "\n",
    "`<h1 class=\"css-140z8k4 \" data-comp=\"DisplayName Box \">`\n",
    "\n",
    "- Product Name: `<span class=\"css-0\">Protini™ Polypeptide Moisturizer</span>` \n",
    "\n",
    "- Product Brand: `<span class=\"css-euydo4\">Drunk Elephant</span>`\n",
    "\n",
    "`</h1>`\n",
    "\n",
    "`<div class=\"css-jtf0an \" data-comp=\"ProductLovesCount Flex Box \">`\n",
    "\n",
    "- n_Loves: `<span data-at=\"product_love_count\">258.8K</span>`\n",
    "\n",
    "`</div>`\n",
    "\n",
    "\n",
    "\n",
    "- Skin Type Target: `<div class=\"css-pz80c5\"></div>`\n",
    "\n",
    "- Ingredients: `<div class=\"css-pz80c5\"></div>`\n",
    "\n",
    "---\n",
    "\n",
    "`<div id=\"ratings-reviews\" data-comp=\"LazyLoad RatingsAndReviews RatingsAndReviews RatingsAndReviews ReviewsFilters RatingsAndReviews ReviewsFilters ReviewsFilters ReviewsFilters RatingsAndReviews \">`\n",
    "\n",
    "\n",
    "`<div class=\"css-f4y59z \" data-comp=\"GridCell Box \">`\n",
    "    `<div aria-label=\"4 stars\" class=\"css-qk062z\" data-comp=\"StarRating \">`\n",
    "\n",
    "- Review Score / Star Rating: `<div class=\"css-1r36mik \" data-comp=\"Box \">4.0 / 5 stars</div>`\n",
    "\n",
    "`</div>`\n",
    "`</div>`\n",
    "\n",
    "\n",
    "- n_Reviews: `<span class=\"css-tc6qfq \" data-comp=\"Text Box \">4383 reviews</span>`\n",
    "\n",
    "- ^Review Stars Distribution: `<div class=\"css-fkgzyo \" data-comp=\"ReviewsStats Box \"></div>`\n",
    "\n",
    "- Review Articles (Collection of ALL X written reviews for that product) `<div class=\"css-7rv8g1 \" data-comp=\"Ellipsis Box \">Love this moisturizer. It's thick but it absorbs super fast. Since my skin is more oily/combination I use this exclusively as a nighttime moisturizer. Depending on your skin type, it might be a little heavy for summer (which is why I only use it at night).</div>`\n",
    "\n",
    "`</div>`\n",
    "\n",
    "\n",
    "^***needs further parsing for information***\n",
    "\n"
   ]
  },
  {
   "cell_type": "code",
   "execution_count": 5,
   "metadata": {},
   "outputs": [],
   "source": [
    "# Parse for item features\n",
    "def sephora_parse_item(item_url:str) -> dict:\n",
    "    '''Returns item/product features from a given sephora url'''\n",
    "    # GET Request to URL\n",
    "    page = requests.get(item_url)\n",
    "    # Create BS4 Object\n",
    "    html = BeautifulSoup(page.text, \"html.parser\")\n",
    "    \n",
    "    # Find Name and Brand\n",
    "    brand, name = (x.get_text() for x in html.find(\"h1\", attrs={\"data-comp\":True}))\n",
    "    \n",
    "    # Find n_loves (product likes)\n",
    "    n_loves = html.find('span', attrs={\"data-at\":\"product_love_count\"}).get_text()\n",
    "    \n",
    "    # Find Average Review Score\n",
    "#     review_score = html.find(\"div\", {'aria-label':True, 'data-comp':\"StarRating \"}).select('')\n",
    "    review_score = html.find(\"div\", {'data-comp':\"ReviewsStats Box \"})\n",
    "\n",
    "\n",
    "    print(review_score)\n",
    "    \n",
    "    \n",
    "# x = sephora_parse_item(product_url)"
   ]
  },
  {
   "cell_type": "code",
   "execution_count": 6,
   "metadata": {},
   "outputs": [
    {
     "name": "stdout",
     "output_type": "stream",
     "text": [
      "<Response [200]>\n",
      "[<div data-sephid=\"5\"><div data-comp=\"RegularProductBottom \" data-reactroot=\"\"><div id=\"ratings-reviews-container\"></div><div class=\"css-1guqbej\" data-comp=\"SectionDivider Divider Box \"></div><a id=\"spEl\" name=\"similarProducts\"><div class=\"css-79elbk\" id=\"spEl-container\"><div class=\"css-13ys60n\" data-comp=\"LazyLoad \" id=\"spEl\"></div></div></a><div class=\"css-1guqbej\" data-comp=\"SectionDivider Divider Box \"></div><div class=\"css-13ys60n\" data-comp=\"LazyLoad \"></div></div></div>]\n"
     ]
    }
   ],
   "source": [
    "page = requests.get('https://www.sephora.com/product/protini-tm-polypeptide-cream-P427421?icid2=products%20grid:p427421')\n",
    "html = BeautifulSoup(page.text, \"html.parser\")\n",
    "\n",
    "print(page)\n",
    "\n",
    "z = html.findAll('div', {'data-sephid':'5'})\n",
    "\n",
    "print(z)\n",
    "\n",
    "# print(html)"
   ]
  },
  {
   "cell_type": "code",
   "execution_count": 49,
   "metadata": {},
   "outputs": [],
   "source": [
    "from selenium import webdriver\n",
    "from selenium.webdriver.chrome.options import Options\n",
    "import time"
   ]
  },
  {
   "cell_type": "code",
   "execution_count": null,
   "metadata": {},
   "outputs": [],
   "source": []
  },
  {
   "cell_type": "code",
   "execution_count": null,
   "metadata": {},
   "outputs": [],
   "source": []
  },
  {
   "cell_type": "markdown",
   "metadata": {},
   "source": [
    "## USER FEATURES:\n",
    "\n",
    "***Looking at only verified purchases***\n",
    "\n",
    "- Rating of X products `<div aria-label=\"1 star\" class=\"css-3z5ot7\" data-comp=\"StarRating \"></div>`\n",
    "\n",
    "## USER META-DATA:\n",
    "\n",
    "- User Name/ID: `<span data-at=\"nickname\" class=\"css-o22055 \" data-comp=\"Text Box \">DaBishBisch</span>`\n",
    "\n",
    "- Eye Color: `<div class=\"css-10lg0rx \" data-comp=\"Box \"><b>Eye Color</b> Brown</div>`\n",
    "\n",
    "- Hair Color: `<div class=\"css-10lg0rx \" data-comp=\"Box \"><b>Hair color</b> Blonde</div>`\n",
    "\n",
    "- Skin Tone: `<div class=\"css-10lg0rx \" data-comp=\"Box \"><b>Skin Tone</b> Fair</div>`\n",
    "\n",
    "- Skin Type: `<div class=\"css-10lg0rx \" data-comp=\"Box \"><b>Skin Type</b> Dry</div>`\n",
    "\n",
    "\n",
    "\n"
   ]
  },
  {
   "cell_type": "code",
   "execution_count": null,
   "metadata": {},
   "outputs": [],
   "source": []
  },
  {
   "cell_type": "code",
   "execution_count": null,
   "metadata": {},
   "outputs": [],
   "source": []
  }
 ],
 "metadata": {
  "kernelspec": {
   "display_name": "Python 3",
   "language": "python",
   "name": "python3"
  },
  "language_info": {
   "codemirror_mode": {
    "name": "ipython",
    "version": 3
   },
   "file_extension": ".py",
   "mimetype": "text/x-python",
   "name": "python",
   "nbconvert_exporter": "python",
   "pygments_lexer": "ipython3",
   "version": "3.7.6"
  }
 },
 "nbformat": 4,
 "nbformat_minor": 4
}

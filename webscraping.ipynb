{
 "cells": [
  {
   "cell_type": "code",
   "execution_count": 1,
   "metadata": {},
   "outputs": [],
   "source": [
    "# Auto Reload\n",
    "%load_ext autoreload\n",
    "%autoreload 2"
   ]
  },
  {
   "cell_type": "code",
   "execution_count": 2,
   "metadata": {},
   "outputs": [],
   "source": [
    "# Import Modules\n",
    "import numpy as np\n",
    "import copy\n",
    "import pandas as pd\n",
    "import json\n",
    "import requests\n",
    "from bs4 import BeautifulSoup\n",
    "from pprint import pprint"
   ]
  },
  {
   "cell_type": "code",
   "execution_count": 3,
   "metadata": {},
   "outputs": [
    {
     "name": "stderr",
     "output_type": "stream",
     "text": [
      "[nltk_data] Downloading package punkt to /Users/boogiedev/nltk_data...\n",
      "[nltk_data]   Package punkt is already up-to-date!\n",
      "[nltk_data] Downloading package stopwords to\n",
      "[nltk_data]     /Users/boogiedev/nltk_data...\n",
      "[nltk_data]   Package stopwords is already up-to-date!\n"
     ]
    }
   ],
   "source": [
    "# Import Custom Modules\n",
    "from src.helpers import *\n",
    "from src.scrape_functions import *"
   ]
  },
  {
   "cell_type": "markdown",
   "metadata": {},
   "source": [
    "# Scope Data"
   ]
  },
  {
   "cell_type": "markdown",
   "metadata": {},
   "source": [
    "## Test Product\n",
    "\n",
    "**DRUNK ELEPHANT Protini Polypeptide Moisturizer** \n",
    "\n",
    "- URL: https://www.sephora.com/product/protini-tm-polypeptide-cream-P427421?icid2=products%20grid:p427421\n",
    "\n",
    "<!-- ![Drunk Elephant Protini](./media/previews/de_protini_preview.png) -->\n",
    "\n",
    "<img src='./media/previews/de_protini_preview.png' width='700'/>"
   ]
  },
  {
   "cell_type": "code",
   "execution_count": 4,
   "metadata": {},
   "outputs": [],
   "source": [
    "# Drunk Elephant Protini URL\n",
    "product_url = 'https://www.sephora.com/product/protini-tm-polypeptide-cream-P427421'"
   ]
  },
  {
   "cell_type": "markdown",
   "metadata": {},
   "source": [
    "## Parse needed items from response"
   ]
  },
  {
   "cell_type": "markdown",
   "metadata": {},
   "source": [
    "### ITEM FEATURES:\n",
    "\n",
    "\n",
    "`<h1 class=\"css-140z8k4 \" data-comp=\"DisplayName Box \">`\n",
    "\n",
    "- [X] Product Name: `<span class=\"css-0\">Protini™ Polypeptide Moisturizer</span>` \n",
    "\n",
    "- [X] Product Brand: `<span class=\"css-euydo4\">Drunk Elephant</span>`\n",
    "\n",
    "`</h1>`\n",
    "\n",
    "`<div class=\"css-jtf0an \" data-comp=\"ProductLovesCount Flex Box \">`\n",
    "\n",
    "- [X] n_Loves: `<span data-at=\"product_love_count\">258.8K</span>`\n",
    "\n",
    "`</div>`\n",
    "\n",
    "\n",
    "\n",
    "- [X] Skin Type Target: `<div class=\"css-pz80c5\"></div>`\n",
    "\n",
    "- [X] Ingredients: `<div class=\"css-pz80c5\"></div>`\n",
    "\n",
    "---\n",
    "\n",
    "`<div id=\"ratings-reviews\" data-comp=\"LazyLoad RatingsAndReviews RatingsAndReviews RatingsAndReviews ReviewsFilters RatingsAndReviews ReviewsFilters ReviewsFilters ReviewsFilters RatingsAndReviews \">`\n",
    "\n",
    "\n",
    "`<div class=\"css-f4y59z \" data-comp=\"GridCell Box \">`\n",
    "    `<div aria-label=\"4 stars\" class=\"css-qk062z\" data-comp=\"StarRating \">`\n",
    "\n",
    "- [X] Review Score / Star Rating: `<div class=\"css-1r36mik \" data-comp=\"Box \">4.0 / 5 stars</div>`\n",
    "\n",
    "`</div>`\n",
    "`</div>`\n",
    "\n",
    "\n",
    "- [X] n_Reviews: `<span class=\"css-tc6qfq \" data-comp=\"Text Box \">4383 reviews</span>`\n",
    "\n",
    "- [X] ^Review Stars Distribution: `<div class=\"css-fkgzyo \" data-comp=\"ReviewsStats Box \"></div>`\n",
    "\n",
    "- Review Articles (Collection of ALL X written reviews for that product) `<div class=\"css-7rv8g1 \" data-comp=\"Ellipsis Box \">Love this moisturizer. It's thick but it absorbs super fast. Since my skin is more oily/combination I use this exclusively as a nighttime moisturizer. Depending on your skin type, it might be a little heavy for summer (which is why I only use it at night).</div>`\n",
    "\n",
    "`</div>`\n",
    "\n",
    "\n",
    "^***needs further parsing for information***\n",
    "\n"
   ]
  },
  {
   "cell_type": "code",
   "execution_count": 137,
   "metadata": {},
   "outputs": [],
   "source": [
    "# test = sephora_scrape(product_url, n_reviews=10, verified=False, verbose=True)"
   ]
  },
  {
   "cell_type": "code",
   "execution_count": 136,
   "metadata": {},
   "outputs": [],
   "source": [
    "# test"
   ]
  },
  {
   "cell_type": "markdown",
   "metadata": {},
   "source": [
    "## USER FEATURES:\n",
    "\n",
    "***Looking at only verified purchases***\n",
    "\n",
    "- Rating of X products `<div aria-label=\"1 star\" class=\"css-3z5ot7\" data-comp=\"StarRating \"></div>`\n",
    "\n",
    "## USER META-DATA:\n",
    "\n",
    "- User Name/ID: `<span data-at=\"nickname\" class=\"css-o22055 \" data-comp=\"Text Box \">DaBishBisch</span>`\n",
    "\n",
    "- Eye Color: `<div class=\"css-10lg0rx \" data-comp=\"Box \"><b>Eye Color</b> Brown</div>`\n",
    "\n",
    "- Hair Color: `<div class=\"css-10lg0rx \" data-comp=\"Box \"><b>Hair color</b> Blonde</div>`\n",
    "\n",
    "- Skin Tone: `<div class=\"css-10lg0rx \" data-comp=\"Box \"><b>Skin Tone</b> Fair</div>`\n",
    "\n",
    "- Skin Type: `<div class=\"css-10lg0rx \" data-comp=\"Box \"><b>Skin Type</b> Dry</div>`\n",
    "\n",
    "\n",
    "\n"
   ]
  },
  {
   "cell_type": "code",
   "execution_count": 134,
   "metadata": {},
   "outputs": [
    {
     "name": "stderr",
     "output_type": "stream",
     "text": [
      "[nltk_data] Downloading package punkt to /Users/boogiedev/nltk_data...\n",
      "[nltk_data]   Package punkt is already up-to-date!\n",
      "[nltk_data] Downloading package stopwords to\n",
      "[nltk_data]     /Users/boogiedev/nltk_data...\n",
      "[nltk_data]   Package stopwords is already up-to-date!\n"
     ]
    },
    {
     "name": "stdout",
     "output_type": "stream",
     "text": [
      "Item Info Found: Drunk Elephant Protini™ Polypeptide Moisturizer\n",
      "Review #0: 4/4\n",
      "Review #1: 4/4\n",
      "Review #2: 4/4\n",
      "Review #3: 4/4\n",
      "Review #4: 4/4\n",
      "Review #5: 4/4\n",
      "Review #6: 4/4\n",
      "Review #7: 4/4\n",
      "Review #8: 4/4\n",
      "Review #9: 4/4\n",
      "Review #10: 4/4\n",
      "Review #11: 4/4\n",
      "Review #12: 4/4\n",
      "Review #13: 4/4\n",
      "Review #14: 4/4\n"
     ]
    }
   ],
   "source": [
    "users = get_user_reviews(product_url, 15, verified=False)"
   ]
  },
  {
   "cell_type": "code",
   "execution_count": 135,
   "metadata": {},
   "outputs": [
    {
     "name": "stderr",
     "output_type": "stream",
     "text": [
      "[nltk_data] Downloading package punkt to /Users/boogiedev/nltk_data...\n",
      "[nltk_data]   Package punkt is already up-to-date!\n",
      "[nltk_data] Downloading package stopwords to\n",
      "[nltk_data]     /Users/boogiedev/nltk_data...\n",
      "[nltk_data]   Package stopwords is already up-to-date!\n"
     ]
    },
    {
     "data": {
      "text/plain": [
       "[['supremekaylap15',\n",
       "  'Eye Color Hazel\\nHair color Brunette\\nSkin Tone Medium\\nSkin Type Dry',\n",
       "  '2 stars',\n",
       "  '3 h ago\\nbeware of a breakout\\nSoooo at first when I started using this, it broke me out really bad but after a week of using it, it stopped. It feels okay on my skin but it leaves a white residue. The only reason I’m giving a 2 star and not just 1 because it was the free birthday gift last year and it does have great ingredients just wasn’t for me!',\n",
       "  'Drunk Elephant',\n",
       "  'Protini™ Polypeptide Moisturizer'],\n",
       " ['Alybug97',\n",
       "  'Eye Color Brown\\nHair color Black\\nSkin Tone Medium\\nSkin Type Combination',\n",
       "  '4 stars',\n",
       "  '4 h ago\\nlasts for a long time for the price!\\nThis is my go-to moisturizer. I have dry skin and healing acne and this never lets me down. What I appreciate the most is I can pump this once, add 1-2 drops of an oil, combine them and add the mixture to my face. This is one of the most moisturizing products that I have, so when I first started, I didn’t feel the need to use any hydration support serums with this. To make this last longer, I do use a hydration serum and then layer this on top with an oil (either marula or rosehip seed oil). My only complaint is the steep price ... but it is Drunk Elephant so that is to be expected I guess! One of these lasts me 3-4 months. Out of the lala retro and the protini, I do prefer the protini. Also the cute packaging is a perk.\\n…read more\\nRecommends this product',\n",
       "  'Drunk Elephant',\n",
       "  'Protini™ Polypeptide Moisturizer'],\n",
       " ['Mikachew',\n",
       "  'Received free product',\n",
       "  '2 stars',\n",
       "  \"5 h ago\\nJust okay\\nI got this as part of the birthday gift and used it on my face/neck every night. At first the texture was very creamy and pleasant to apply. However, after about 2 weeks of use, this moisturizer started to sting when I used it and it made my skin feel very itchy. I did not switch to any new skincare products or hair products during that time, or change any other parts of my routine--so I suspect there was something in this moisturizer that was irritating my skin. I have combo/acne prone skin, and while this did not break me out, it irritated my skin. I ended up finishing the rest as hand cream. I know people who swear by this stuff, but it wasn't the moisturizer for me--plus I think the price tag for a full tub of this is a little ridiculous.\\n…read more\",\n",
       "  'Drunk Elephant',\n",
       "  'Protini™ Polypeptide Moisturizer'],\n",
       " ['jkbean',\n",
       "  'Eye Color Blue\\nHair color Blonde\\nSkin Tone Fair\\nSkin Type Normal',\n",
       "  '2 stars',\n",
       "  \"23 h ago\\nBirthday gift was better.\\nAlright. I bought this because I loved the trial for the birthday gift last year--- which lasted AGES (like 4 months); bought this and thought that it would last a long time, ended up being <6 months. Also didn't seem as creamy as the trial version (could just be me!). Bummed. Really wanted this to work and last, but wasn't impressed enough to purchase again.\",\n",
       "  'Drunk Elephant',\n",
       "  'Protini™ Polypeptide Moisturizer'],\n",
       " ['adrianax0',\n",
       "  'Eye Color Brown\\nHair color Brunette\\nSkin Tone Medium\\nSkin Type Oily',\n",
       "  '4 stars',\n",
       "  '1 d ago\\nI loved this product! I have oily/combo skin so it’s hard for me to find good moisturizers to balance my oil and not feel my face dry as well. The only downside is the price and the amount of product. I bought this in early March and it finished The last day of May, so roughly 3 months for $68... But I will be repurchasing bc I just used cetahpil face lotion today and my face looks like I’ve been running a marathon :(\\n…read more\\nRecommends this product',\n",
       "  'Drunk Elephant',\n",
       "  'Protini™ Polypeptide Moisturizer'],\n",
       " ['aat2',\n",
       "  'Age 35-44\\nEye Color Brown\\nHair color Brunette\\nSkin Tone Medium\\nSkin Type Combination',\n",
       "  '4 stars',\n",
       "  \"1 d ago\\nI love this moisturizer! I've tried others that are less expensive and it's just not the same. My skins feels so soft and not at all oily. I'm curious how long this container will last. I like the container but I'm not sure how it will be as the container runs out. I really wish it wasnt so darn expensive and that's why I'm giving it 4 stars but the product is amazing.\\nRecommends this product\",\n",
       "  'Drunk Elephant',\n",
       "  'Protini™ Polypeptide Moisturizer'],\n",
       " ['ehtepper',\n",
       "  'Skin Tone Light\\nSkin Type Normal',\n",
       "  '1 star',\n",
       "  \"Verified Purchase\\n1 d ago\\nI have very clear skin and within a day of using this moisturizer my face was covered in pimples and my pores (especially on my nose) were enlarged. Within 3 days of stopping it, the breakout was completely gone. Now I'm stuck with a $68 moisturizer I'll never use again!\",\n",
       "  'Drunk Elephant',\n",
       "  'Protini™ Polypeptide Moisturizer'],\n",
       " ['Karolbg',\n",
       "  'Received free product',\n",
       "  '5 stars',\n",
       "  '1 d ago\\nThis moisturizer for me is loyal, I have combination skin and I use this cream when there’s no cold weather, then I use lala retro when I have very dry patches. My experience with this is amazing, also it helps me a lot with my dark spots and it’s good for mix it with acid serums in the night, I have only tried like 4 trial sizes of this and I’m going to buy a regular size right now, it’s just amazing for me and my skin\\n…read more\\nRecommends this product',\n",
       "  'Drunk Elephant',\n",
       "  'Protini™ Polypeptide Moisturizer'],\n",
       " ['lyndscunn',\n",
       "  'Received free product',\n",
       "  '5 stars',\n",
       "  '3 d ago\\ngood for acne prone skin\\nReceived this as a sample and purchased full size immediately. Great for acne prone skin as it leave no oily residue. Really helped me out with a sunburn as well\\nRecommends this product',\n",
       "  'Drunk Elephant',\n",
       "  'Protini™ Polypeptide Moisturizer'],\n",
       " ['Nadyna',\n",
       "  'Received free product',\n",
       "  '2 stars',\n",
       "  '3 d ago\\nBUY CERVE instead of this\\nI used the mini version of this the free birthday gift and i promise you it is a great consistency, feel light on the skin. I’d say like a lesser weight then CERVE cream but it wasn’t glorious.. CERVE is thicker and cheaper and much better price per OZ.',\n",
       "  'Drunk Elephant',\n",
       "  'Protini™ Polypeptide Moisturizer'],\n",
       " ['YSHS',\n",
       "  'Eye Color Brown\\nHair color Brunette\\nSkin Tone Tan\\nSkin Type Combination',\n",
       "  '1 star',\n",
       "  '3 d ago\\nWORSE PRODUCT EVER!\\nTerrible product. Broke me so badly. I would not recommend this product to anyone. Initially I thought it’ll take some time to adjust to my skin but it became worse within 2 days!',\n",
       "  'Drunk Elephant',\n",
       "  'Protini™ Polypeptide Moisturizer'],\n",
       " ['DaBishBisch',\n",
       "  'Eye Color Brown\\nHair color Blonde\\nSkin Tone Fair\\nSkin Type Dry',\n",
       "  '1 star',\n",
       "  '3 d ago\\nIneffective, poorly constructed\\nThe dispenser’s spring gave out at complete random; there has not once been an impact to this container while in my ownership. There is no way to get out the remaining product. Regardless, I was more impressed with my cerave moisturizer. This is a gimmicky ripoff, I am shocked at how this brand seems to only come from hype. I did not notice any visual benefits from this product whatsoever. It was slightly irritating to my drier skin.\\n…read more',\n",
       "  'Drunk Elephant',\n",
       "  'Protini™ Polypeptide Moisturizer'],\n",
       " ['Chelseaalyriaaa',\n",
       "  'Eye Color Brown\\nHair color Brunette\\nSkin Tone Fair\\nSkin Type Combination',\n",
       "  '3 stars',\n",
       "  '3 d ago\\nI went through a whole jar of this cream and it’s just an okay product for my liking. I do like it but just like it. I didn’t see anything different when I use this moisturizer, so I probably won’t repurchase. It is a good product tho, it’s just not something special for me. But I’m sure it’s gonna be fave for someone else.\\nRecommends this product',\n",
       "  'Drunk Elephant',\n",
       "  'Protini™ Polypeptide Moisturizer'],\n",
       " ['RJReviews',\n",
       "  'Eye Color Green\\nHair color Blonde\\nSkin Tone Fair\\nSkin Type Combination',\n",
       "  '5 stars',\n",
       "  \"Verified Purchase\\n3 d ago\\nFavorite Nighttime Moisturizer\\nLove this moisturizer. It's thick but it absorbs super fast. Since my skin is more oily/combination I use this exclusively as a nighttime moisturizer. Depending on your skin type, it might be a little heavy for summer (which is why I only use it at night).\\nRecommends this product\",\n",
       "  'Drunk Elephant',\n",
       "  'Protini™ Polypeptide Moisturizer'],\n",
       " ['daniellerem',\n",
       "  'Eye Color Brown\\nHair color Brunette\\nSkin Tone Light\\nSkin Type Combination',\n",
       "  '4 stars',\n",
       "  '3 d ago\\ntoo thick\\nI have very oily, acne prone skin. I tend to lean toward products that are lightweight, yet effective for my skin type. This moisturizer is effective, but feels too thick for my skin type. It may work better for those who enjoy that kind of consistency or have more dry of a skin type :)\\nRecommends this product',\n",
       "  'Drunk Elephant',\n",
       "  'Protini™ Polypeptide Moisturizer']]"
      ]
     },
     "execution_count": 135,
     "metadata": {},
     "output_type": "execute_result"
    }
   ],
   "source": [
    "users"
   ]
  }
 ],
 "metadata": {
  "kernelspec": {
   "display_name": "Python 3",
   "language": "python",
   "name": "python3"
  },
  "language_info": {
   "codemirror_mode": {
    "name": "ipython",
    "version": 3
   },
   "file_extension": ".py",
   "mimetype": "text/x-python",
   "name": "python",
   "nbconvert_exporter": "python",
   "pygments_lexer": "ipython3",
   "version": "3.7.6"
  }
 },
 "nbformat": 4,
 "nbformat_minor": 4
}

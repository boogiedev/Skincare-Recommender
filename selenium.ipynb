{
 "cells": [
  {
   "cell_type": "code",
   "execution_count": 1,
   "metadata": {},
   "outputs": [],
   "source": [
    "# Auto Reload\n",
    "%load_ext autoreload\n",
    "%autoreload 2"
   ]
  },
  {
   "cell_type": "code",
   "execution_count": 580,
   "metadata": {},
   "outputs": [
    {
     "name": "stderr",
     "output_type": "stream",
     "text": [
      "[nltk_data] Downloading package punkt to /Users/boogiedev/nltk_data...\n",
      "[nltk_data]   Package punkt is already up-to-date!\n",
      "[nltk_data] Downloading package stopwords to\n",
      "[nltk_data]     /Users/boogiedev/nltk_data...\n",
      "[nltk_data]   Package stopwords is already up-to-date!\n"
     ]
    }
   ],
   "source": [
    "# Import Modules\n",
    "import numpy as np\n",
    "import copy\n",
    "import pandas as pd\n",
    "import json\n",
    "import requests\n",
    "import bs4\n",
    "from bs4 import BeautifulSoup\n",
    "from pprint import pprint\n",
    "\n",
    "import nltk\n",
    "nltk.download('punkt')\n",
    "nltk.download('stopwords')\n",
    "from nltk.corpus import stopwords\n",
    "\n",
    "from selenium import webdriver\n",
    "from selenium.webdriver.chrome.options import Options\n",
    "from selenium.webdriver.common.keys import Keys\n",
    "from bs4 import BeautifulSoup\n",
    "import re\n",
    "import os\n",
    "import time"
   ]
  },
  {
   "cell_type": "code",
   "execution_count": 410,
   "metadata": {},
   "outputs": [],
   "source": [
    "# Import Custom Modules\n",
    "from src.helpers import *"
   ]
  },
  {
   "cell_type": "code",
   "execution_count": 25,
   "metadata": {},
   "outputs": [],
   "source": [
    "url = 'https://www.sephora.com/product/protini-tm-polypeptide-cream-P427421'"
   ]
  },
  {
   "cell_type": "code",
   "execution_count": 442,
   "metadata": {},
   "outputs": [],
   "source": [
    "chrome_options = Options()  \n",
    "# chrome_options.add_argument(\"--headless\")\n",
    "driver = webdriver.Chrome(options=chrome_options)\n",
    "driver.get(url)\n",
    "driver.execute_script(\"window.scrollTo(0, document.body.scrollHeight);\")\n",
    "time.sleep(2)\n",
    "driver.execute_script(\"window.scrollTo(0, document.body.scrollHeight);\")\n",
    "time.sleep(2)\n",
    "page = driver.page_source\n",
    "driver.close()\n",
    "driver.quit()"
   ]
  },
  {
   "cell_type": "code",
   "execution_count": 443,
   "metadata": {},
   "outputs": [],
   "source": [
    "html = BeautifulSoup(page, 'html.parser')"
   ]
  },
  {
   "cell_type": "code",
   "execution_count": 444,
   "metadata": {},
   "outputs": [],
   "source": [
    "z = html.findAll('div', {'data-sephid':'5'})"
   ]
  },
  {
   "cell_type": "code",
   "execution_count": 339,
   "metadata": {},
   "outputs": [],
   "source": [
    "# page = requests.get('https://www.sephora.com/product/protini-tm-polypeptide-cream-P427421?icid2=products%20grid:p427421')\n",
    "# html = BeautifulSoup(page.text, 'html.parser')"
   ]
  },
  {
   "cell_type": "code",
   "execution_count": 445,
   "metadata": {},
   "outputs": [
    {
     "data": {
      "text/plain": [
       "'4 stars'"
      ]
     },
     "execution_count": 445,
     "metadata": {},
     "output_type": "execute_result"
    }
   ],
   "source": [
    "stars = html.find(\"div\", {'data-comp':\"StarRating \"})['aria-label']\n",
    "stars"
   ]
  },
  {
   "cell_type": "code",
   "execution_count": 446,
   "metadata": {},
   "outputs": [
    {
     "data": {
      "text/plain": [
       "{'5_stars': '2557',\n",
       " '4_stars': '539',\n",
       " '3_stars': '402',\n",
       " '2_stars': '402',\n",
       " '1_stars': '491'}"
      ]
     },
     "execution_count": 446,
     "metadata": {},
     "output_type": "execute_result"
    }
   ],
   "source": [
    "star_dist = html.find('table', {'data-comp':'HistogramChart '})\n",
    "star_counts = star_dist.get_text(separator=' ').split()[2::3]\n",
    "star_dist = {f'{num}_stars':star_counts[i] for num, i in zip(range(5 ,0, -1), range(len(star_counts)))}\n",
    "\n",
    "star_dist"
   ]
  },
  {
   "cell_type": "code",
   "execution_count": 462,
   "metadata": {},
   "outputs": [
    {
     "data": {
      "text/plain": [
       "'4391 reviews'"
      ]
     },
     "execution_count": 462,
     "metadata": {},
     "output_type": "execute_result"
    }
   ],
   "source": [
    "review_score = html.find(\"div\", {'data-comp':\"ReviewsStats Box \"})\n",
    "\n",
    "# review_score.get_text(separator='', strip=False)\n",
    "# for i in review_score.findAll('div'):\n",
    "\n",
    "\n",
    "# for x in review_score.findAll('td'):\n",
    "#     print(x.get_text())\n",
    "review_score.find('span').get_text()"
   ]
  },
  {
   "cell_type": "code",
   "execution_count": 631,
   "metadata": {},
   "outputs": [
    {
     "data": {
      "text/plain": [
       "'Dry, Normal, and Combination '"
      ]
     },
     "execution_count": 631,
     "metadata": {},
     "output_type": "execute_result"
    }
   ],
   "source": [
    "skin_types = ['normal', 'dry', 'oily', 'combination', 'sensitive']\n",
    "\n",
    "test_url = 'https://www.sephora.com/product/protini-tm-polypeptide-cream-P427421?icid2=products%20grid:p427421'\n",
    "test_url = 'https://www.sephora.com/product/the-water-cream-P418218?icid2=products%20grid:p418218'\n",
    "test_url = 'https://www.sephora.com/product/the-true-cream-aqua-bomb-P394639?icid2=products%20grid:p394639'\n",
    "test_url = 'https://www.sephora.com/product/ultra-facial-cream-P421996?icid2=products%20grid:p421996'\n",
    "page = requests.get(test_url)\n",
    "html = BeautifulSoup(page.text, 'html.parser')\n",
    "skin_content = html.find('div', {'data-at':'product_tabs_section'})\n",
    "skin_type = skin_content.findAll('div', {'aria-labelledby':True})[0]\n",
    "\n",
    "\n",
    "\n",
    "# print(x)\n",
    "# isinstance(x, bs4.element.NavigableString)\n",
    "# [e.extract() for e in skin_type.findAll('br')]\n",
    "# x = skin_type.find('b', text=re.compile(\"skin\", re.IGNORECASE))\n",
    "# x.next_sibling"
   ]
  },
  {
   "cell_type": "code",
   "execution_count": 310,
   "metadata": {},
   "outputs": [
    {
     "data": {
      "text/plain": [
       "'Water/Aqua/Eau, Dicaprylyl Carbonate, Glycerin, Cetearyl Alcohol, Cetearyl Olivate, Sorbitan Olivate, Sclerocarya Birrea Seed Oil, Bacillus/Soybean/ Folic Acid Ferment Extract, Nymphaea Alba Root Extract, sh-Oligopeptide-1, sh-Oligopeptide-2, sh-Polypeptide-1, sh-Polypeptide-9, sh-Polypeptide-11, Copper Palmitoyl Heptapeptide-14, Heptapeptide-15 Palmitate, Palmitoyl Tetrapeptide-7, Palmitoyl Tripeptide-1, Alanine, Arginine, Glycine, Histidine, Isoleucine, Phenylalanine, Proline, Serine, Threonine, Valine, Acetyl Glutamine, Coconut Alkanes, Coco-Caprylate/Caprate, Sodium Hyaluronate, Aspartic Acid, Linoleic Acid, Linolenic Acid, Lecithin, Butylene Glycol, Polyvinyl Alcohol, Sodium Lactate, Sodium PCA, PCA, Sorbitan Isostearate, Carbomer, Polysorbate 20, Polysorbate 60, Lactic Acid/Glycolic Acid Copolymer, Hydroxyethyl Acrylate/Sodium Acryloyldimethyl Taurate Copolymer, Xanthan Gum, Isomalt, 1,2-Hexanediol, Caprylyl Glycol, Chlorphenesin, Phenoxyethanol, Tocopherol, Sodium Benzoate, Phenylpropanol, Glyceryl Caprylate, Symphytum Officinale Callus Culture Extract.'"
      ]
     },
     "execution_count": 310,
     "metadata": {},
     "output_type": "execute_result"
    }
   ],
   "source": [
    "test_url = 'https://www.sephora.com/product/protini-tm-polypeptide-cream-P427421?icid2=products%20grid:p427421'\n",
    "# test_url = 'https://www.sephora.com/product/the-water-cream-P418218?icid2=products%20grid:p418218'\n",
    "# test_url = 'https://www.sephora.com/product/the-true-cream-aqua-bomb-P394639?icid2=products%20grid:p394639'\n",
    "# test_url = 'https://www.sephora.com/product/ultra-facial-cream-P421996?icid2=products%20grid:p421996'\n",
    "page = requests.get(test_url)\n",
    "html = BeautifulSoup(page.text, 'html.parser')\n",
    "skin_type = html.find('div', {'data-at':'product_tabs_section'})\n",
    "ingredients = skin_type.findAll('div', {'aria-labelledby':True})[2]\n",
    "splitted = ingredients.get_text(strip=False, separator=' |$%&*$| ')\n",
    "x = splitted.split(' |$%&*$| ')\n",
    "# x[3].split(', ')\n",
    "parse_ingredients(x)"
   ]
  },
  {
   "cell_type": "code",
   "execution_count": 634,
   "metadata": {},
   "outputs": [],
   "source": [
    "# Parse for item features\n",
    "def get_static_meta(item_url:str) -> dict:\n",
    "    '''Returns item/product features from static section of given sephora url'''\n",
    "    # GET Request to URL\n",
    "    page = requests.get(item_url)\n",
    "    # Create BS4 Object\n",
    "    html = BeautifulSoup(page.text, \"html.parser\")\n",
    "    \n",
    "    # Find Name and Brand\n",
    "    brand, name = (x.get_text() for x in html.find(\"h1\", attrs={\"data-comp\":True}))\n",
    "    \n",
    "    # Find n_loves (product likes)\n",
    "    n_loves = html.find('span', attrs={\"data-at\":\"product_love_count\"}).get_text()\n",
    "    \n",
    "    # Find Star Rating\n",
    "    stars = html.find(\"div\", {'data-comp':\"StarRating \"})['aria-label']\n",
    "    \n",
    "    # Find Ingredients and Skin Type Target\n",
    "    tabbed_block = html.find('div', {'data-at':'product_tabs_section'})\n",
    "    \n",
    "    # Ingredients\n",
    "    ingredient_section = tabbed_block.findAll('div', {'aria-labelledby':True})[2]\n",
    "    ingredients = ingredient_section.get_text(strip=False, separator=' |$%&*$| ').split(' |$%&*$| ')\n",
    "    ingredients = parse_ingredients(ingredients)\n",
    "    # Skin Type\n",
    "    skin_section = tabbed_block.findAll('div', {'aria-labelledby':True})[0]\n",
    "    skin_types = parse_skin_type(skin_section)\n",
    "    \n",
    "    \n",
    "    \n",
    "    return brand, name, n_loves, stars, ingredients, skin_types"
   ]
  },
  {
   "cell_type": "code",
   "execution_count": 457,
   "metadata": {},
   "outputs": [],
   "source": [
    "def get_dynamic_meta(url:str) -> tuple:\n",
    "    '''Returns item/product features from scoll-loaded section of given sephora url'''\n",
    "    # Init Chrome Driver Options\n",
    "    chrome_options = Options()  \n",
    "    # Run headless arg to avoid GUI\n",
    "#     chrome_options.add_argument(\"--headless\")\n",
    "    # Init Driver Instance -> load options\n",
    "    driver = webdriver.Chrome(options=chrome_options)\n",
    "    \n",
    "    # Call url via driver\n",
    "    driver.get(url)\n",
    "    # Scroll down to load REVEIW section\n",
    "    driver.execute_script(\"window.scrollTo(0, document.body.scrollHeight);\")\n",
    "    time.sleep(2)\n",
    "    driver.execute_script(\"window.scrollTo(0, document.body.scrollHeight);\")\n",
    "    time.sleep(2)\n",
    "    page = driver.page_source\n",
    "    driver.close()\n",
    "    driver.quit()\n",
    "    \n",
    "    # Create HTML object\n",
    "    html = BeautifulSoup(page, 'html.parser')\n",
    "    \n",
    "    # Find n_reviews \n",
    "    n_reviews = html.find(\"div\", {'data-comp':\"ReviewsStats Box \"}).find('span').get_text()\n",
    "    \n",
    "    # Find Star Distribution\n",
    "    star_info = html.find('table', {'data-comp':'HistogramChart '})\n",
    "    star_counts = star_info.get_text(separator=' ').split()[2::3]\n",
    "    star_dist = [f'{num}_stars: {star_counts[i]}' for num, i in zip(range(5 ,0, -1), range(len(star_counts)))]\n",
    "    \n",
    "    return n_reviews, star_dist"
   ]
  },
  {
   "cell_type": "code",
   "execution_count": 632,
   "metadata": {},
   "outputs": [],
   "source": [
    "def parse_ingredients(text_lists:list) -> list:\n",
    "    '''Returns list of ingredients from a given text block, runs though pipeline to ensure only ingredients are taken'''\n",
    "    stop_set = set(stopwords.words('english'))\n",
    "    \n",
    "    backup = ''\n",
    "    for text in text_lists:\n",
    "        set_i = set(text.lower().split())\n",
    "        if text:\n",
    "            if text.strip()[0] != '-':\n",
    "                return text\n",
    "            elif not (stop_set.intersection(set_i)):\n",
    "                backup = text\n",
    "    return backup\n"
   ]
  },
  {
   "cell_type": "code",
   "execution_count": 633,
   "metadata": {},
   "outputs": [],
   "source": [
    "def parse_skin_type(text_block:bs4.element) -> str:\n",
    "    '''Returns list of skin types from a given text block, runs though pipeline to ensure only valid types are taken'''\n",
    "    html = text_block\n",
    "    \n",
    "    # Extract all break tags from text_block\n",
    "    [e.extract() for e in html.findAll('br')]\n",
    "    \n",
    "    route = html.find('b', text=re.compile(\"skin\", re.IGNORECASE))\n",
    "    res = ''\n",
    "    \n",
    "    item = route.next_sibling\n",
    "    while isinstance(item, bs4.element.NavigableString):\n",
    "        res += item\n",
    "        item = item.next_sibling\n",
    "    return res\n",
    "    \n",
    "    \n",
    "# parse_skin_type(skin_type)"
   ]
  },
  {
   "cell_type": "code",
   "execution_count": 635,
   "metadata": {},
   "outputs": [],
   "source": [
    "def sephora_scrape(url:str) -> dict:\n",
    "    '''Returns dictionary of needed features parsed from sephora.com link using selenium for dynamic page loading'''\n",
    "    # Statically scrape product meta info\n",
    "    brand, name, n_loves, stars, ingredients, skin_types = get_static_meta(url) \n",
    "    \n",
    "    # Dynamically scrape product review section\n",
    "    n_reviews, star_dist = get_dynamic_meta(url)\n",
    "    \n",
    "    return brand, name, n_loves, stars, ingredients, skin_types, n_reviews, star_dist"
   ]
  },
  {
   "cell_type": "code",
   "execution_count": 636,
   "metadata": {},
   "outputs": [
    {
     "data": {
      "text/plain": [
       "('Tatcha',\n",
       " 'The Water Cream',\n",
       " '232981',\n",
       " '4 stars',\n",
       " 'Water, Saccharomyces/Camellia Sinensis Leaf/Cladosiphon Okamuranus/Rice Ferment Filtrate*, Dimethicone, Propanediol, Glycerin, Diglycerin, Diphenylsiloxy Phenyl Trimethicone, Gold, Belamcanda Chinensis Root Extract, Rosa Multiflora Fruit Extract, Houttuynia Cordata Extract, Sophora Angustifolia Root Extract, Sodium Hyaluronate, Lecithin, Pistacia Lentiscus (Mastic) Gum, Sodium Chloride, Sodium Citrate, Mica, Peg-9 Polydimethylsiloxyethyl Dimethicone, Dimethicone/Peg-10/15 Crosspolymer, Dimethicone/Phenyl Vinyl Dimethicone Crosspolymer, Disodium Edta, Tin Oxide, Titanium Dioxide, Butylene Glycol, Ethylhexylglycerin, Parfum/Fragrance, Alcohol, Phenoxyethanol. *Hadasei-3.\\r\\n',\n",
       " '✔ Normal✔ Oily✔ Combination✔  Sensitive\\r\\n',\n",
       " '3024 reviews',\n",
       " ['5_stars: 1815',\n",
       "  '4_stars: 391',\n",
       "  '3_stars: 306',\n",
       "  '2_stars: 231',\n",
       "  '1_stars: 281'])"
      ]
     },
     "execution_count": 636,
     "metadata": {},
     "output_type": "execute_result"
    }
   ],
   "source": [
    "sephora_scrape('https://www.sephora.com/product/the-water-cream-P418218?icid2=products%20grid:p418218')"
   ]
  },
  {
   "cell_type": "code",
   "execution_count": 637,
   "metadata": {},
   "outputs": [
    {
     "data": {
      "text/plain": [
       "('belif',\n",
       " 'The True Cream Aqua Bomb',\n",
       " '190974',\n",
       " '4.5 stars',\n",
       " 'Water, Dipropylene Glycol, Glycerin, Methl Trimethicone, Alcohol Denat, Dimethicone, Cyclopentasiloxane, 1,2-Hexanediol, Malakite Extract, Caprylic/Capric Triglyceride, Pentaerythrityl Tetraethylhexanoate, PEG/PPG/Polybutylene Glycol-8/5/3 Glycerin, Alchemilla Vulgaris Leaf Extract*, Equisetum Arvense Leaf Extract*, Stellaria Media (Chickweed) Extract*, Urtica Dioica (Nettle) Leaf Extract*, Plantago Lanceolata Leaf Extract*, Avena Sativa (Oat) Kernel Extract**, Calendula Officinalis Flower Extract**, Nepeta Cataria Extract**, Rubus Idaeus (Raspberry) Leaf Extract**, Baptisia Tinctoria Root Extract**, Dimethiconol, Polymethylsilsesquioxane, Sodium Acrylate/Acryloyldimethyltaurate/Dimethylacrylamide Crosspolymer, Isohexadecane, Polysorbate 60, Ceramide 3, Cholesterol, Butyrospermum Parkii (Shea) Butter, Phenl Trimethicone, Pentaerythrityl Tetraisostearate, Panthenol, Squalane, Triethylhexanoin, Macadamia Ternifolia Seed Oil, PEG-150, PEG-40 Hydrogenated Castor Oil, Acrylates/C10-30 Alkyl Acrylate Crosspolymer, C14-22 Alcohols, Arachidyl Glucoside, Hydrogenated Lecithin, PEG-100 Stearate, Stearic Acid, Glyceryl Stearate, Carbomer, Tromethamine, Trisodium EDTA, Fragrance+, Citronellol, Limonene, Citral, Geraniol, Linalool.',\n",
       " 'Normal, Dry, Combination, and Oily ',\n",
       " '4500 reviews',\n",
       " ['5_stars: 3258',\n",
       "  '4_stars: 660',\n",
       "  '3_stars: 244',\n",
       "  '2_stars: 172',\n",
       "  '1_stars: 166'])"
      ]
     },
     "execution_count": 637,
     "metadata": {},
     "output_type": "execute_result"
    }
   ],
   "source": [
    "sephora_scrape('https://www.sephora.com/product/the-true-cream-aqua-bomb-P394639?icid2=products%20grid:p394639')"
   ]
  }
 ],
 "metadata": {
  "kernelspec": {
   "display_name": "Python 3",
   "language": "python",
   "name": "python3"
  },
  "language_info": {
   "codemirror_mode": {
    "name": "ipython",
    "version": 3
   },
   "file_extension": ".py",
   "mimetype": "text/x-python",
   "name": "python",
   "nbconvert_exporter": "python",
   "pygments_lexer": "ipython3",
   "version": "3.7.6"
  }
 },
 "nbformat": 4,
 "nbformat_minor": 4
}

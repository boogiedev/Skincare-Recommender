{
 "cells": [
  {
   "cell_type": "code",
   "execution_count": 1,
   "metadata": {},
   "outputs": [],
   "source": [
    "# Auto Reload\n",
    "%load_ext autoreload\n",
    "%autoreload 2"
   ]
  },
  {
   "cell_type": "code",
   "execution_count": 32,
   "metadata": {},
   "outputs": [],
   "source": [
    "# Import Modules\n",
    "import numpy as np\n",
    "import copy\n",
    "import pandas as pd\n",
    "import json\n",
    "import requests\n",
    "from bs4 import BeautifulSoup\n",
    "from pprint import pprint\n",
    "from selenium import webdriver\n",
    "from selenium.webdriver.chrome.options import Options\n",
    "from selenium.webdriver.common.keys import Keys\n",
    "from bs4 import BeautifulSoup\n",
    "import re\n",
    "import os\n",
    "import time"
   ]
  },
  {
   "cell_type": "code",
   "execution_count": 25,
   "metadata": {},
   "outputs": [],
   "source": [
    "url = 'https://www.sephora.com/product/protini-tm-polypeptide-cream-P427421'"
   ]
  },
  {
   "cell_type": "code",
   "execution_count": 85,
   "metadata": {},
   "outputs": [],
   "source": [
    "chrome_options = Options()  \n",
    "# chrome_options.add_argument(\"--headless\")\n",
    "driver = webdriver.Chrome(options=chrome_options)\n",
    "driver.get(url)\n",
    "driver.execute_script(\"window.scrollTo(0, document.body.scrollHeight);\")\n",
    "time.sleep(1)\n",
    "driver.execute_script(\"window.scrollTo(0, document.body.scrollHeight);\")\n",
    "time.sleep(2)\n",
    "page = driver.page_source\n",
    "driver.close()\n",
    "driver.quit()"
   ]
  },
  {
   "cell_type": "code",
   "execution_count": 86,
   "metadata": {},
   "outputs": [],
   "source": [
    "html = BeautifulSoup(page, 'html.parser')"
   ]
  },
  {
   "cell_type": "code",
   "execution_count": 87,
   "metadata": {},
   "outputs": [],
   "source": [
    "z = html.findAll('div', {'data-sephid':'5'})"
   ]
  },
  {
   "cell_type": "code",
   "execution_count": 88,
   "metadata": {},
   "outputs": [
    {
     "data": {
      "text/plain": [
       "'4 stars'"
      ]
     },
     "execution_count": 88,
     "metadata": {},
     "output_type": "execute_result"
    }
   ],
   "source": [
    "stars = html.find(\"div\", {'data-comp':\"StarRating \"})['aria-label']\n",
    "stars"
   ]
  },
  {
   "cell_type": "code",
   "execution_count": 89,
   "metadata": {},
   "outputs": [
    {
     "data": {
      "text/plain": [
       "<div class=\"css-1g66t8c\" data-comp=\"Flex Box \"><span class=\"css-tc6qfq\" data-comp=\"Text Box \">4386 reviews</span><button class=\"css-k13wt5\" data-comp=\"Link Box \" type=\"button\">Write a review</button></div>"
      ]
     },
     "execution_count": 89,
     "metadata": {},
     "output_type": "execute_result"
    }
   ],
   "source": [
    "review_score = html.find(\"div\", {'data-comp':\"ReviewsStats Box \"})\n",
    "review_score.div"
   ]
  },
  {
   "cell_type": "code",
   "execution_count": null,
   "metadata": {},
   "outputs": [],
   "source": []
  },
  {
   "cell_type": "code",
   "execution_count": 91,
   "metadata": {},
   "outputs": [],
   "source": [
    "# Parse for item features\n",
    "def sephora_parse_item(item_url:str) -> dict:\n",
    "    '''Returns item/product features from a given sephora url'''\n",
    "    # GET Request to URL\n",
    "    page = requests.get(item_url)\n",
    "    # Create BS4 Object\n",
    "    html = BeautifulSoup(page.text, \"html.parser\")\n",
    "    \n",
    "    # Find Name and Brand\n",
    "    brand, name = (x.get_text() for x in html.find(\"h1\", attrs={\"data-comp\":True}))\n",
    "    \n",
    "    # Find n_loves (product likes)\n",
    "    n_loves = html.find('span', attrs={\"data-at\":\"product_love_count\"}).get_text()\n",
    "    \n",
    "    return brand, name, n_loves"
   ]
  },
  {
   "cell_type": "code",
   "execution_count": 92,
   "metadata": {},
   "outputs": [
    {
     "data": {
      "text/plain": [
       "('Drunk Elephant', 'Protini™ Polypeptide Moisturizer', '259023')"
      ]
     },
     "execution_count": 92,
     "metadata": {},
     "output_type": "execute_result"
    }
   ],
   "source": [
    "brand, name, n_loves = sephora_parse_item('https://www.sephora.com/product/protini-tm-polypeptide-cream-P427421')\n",
    "\n",
    "brand, name, n_loves"
   ]
  },
  {
   "cell_type": "code",
   "execution_count": 56,
   "metadata": {},
   "outputs": [],
   "source": [
    "def sephora_scrape(url:str) -> dict:\n",
    "    '''Returns dictionary of needed features parsed from sephora.com link using selenium for dynamic page loading'''\n",
    "    # Init Chrome Driver Options\n",
    "    chrome_options = Options()  \n",
    "    # Run headless arg to avoid GUI\n",
    "    chrome_options.add_argument(\"--headless\")\n",
    "    # Init Driver Instance -> load options\n",
    "    driver = webdriver.Chrome(options=chrome_options)\n",
    "    # Call url via driver\n",
    "    driver.get(url)\n",
    "    # Scroll down to load REVEIW section\n",
    "    driver.execute_script(\"window.scrollTo(0, document.body.scrollHeight);\")\n",
    "    time.sleep(2)\n",
    "    driver.execute_script(\"window.scrollTo(0, document.body.scrollHeight);\")\n",
    "    time.sleep(5)\n",
    "    page = driver.page_source\n",
    "    driver.close()\n",
    "    driver.quit()"
   ]
  }
 ],
 "metadata": {
  "kernelspec": {
   "display_name": "Python 3",
   "language": "python",
   "name": "python3"
  },
  "language_info": {
   "codemirror_mode": {
    "name": "ipython",
    "version": 3
   },
   "file_extension": ".py",
   "mimetype": "text/x-python",
   "name": "python",
   "nbconvert_exporter": "python",
   "pygments_lexer": "ipython3",
   "version": "3.7.6"
  }
 },
 "nbformat": 4,
 "nbformat_minor": 4
}

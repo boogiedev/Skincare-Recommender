{
 "cells": [
  {
   "cell_type": "code",
   "execution_count": 1,
   "metadata": {},
   "outputs": [],
   "source": [
    "%load_ext autoreload\n",
    "%autoreload 2"
   ]
  },
  {
   "cell_type": "code",
   "execution_count": null,
   "metadata": {},
   "outputs": [],
   "source": [
    "# Import Modules\n",
    "from pprint import pprint\n",
    "import json\n",
    "from bs4 import BeautifulSoup\n",
    "from urllib.parse import urlencode\n",
    "import re\n",
    "\n",
    "from datetime import datetime, timedelta\n",
    "import dill\n",
    "import pandas as pd\n",
    "import numpy as np\n",
    "from matplotlib import pyplot as plt\n",
    "import matplotlib.patches as patches\n",
    "import mplcyberpunk\n",
    "import seaborn as sns\n",
    "import scipy as sp\n",
    "import scipy.stats as stats\n",
    "from typing import List, Dict, Callable\n",
    "\n",
    "# plt.style.use('ggplot')\n",
    "plt.style.use(\"cyberpunk\")\n",
    "\n",
    "import os\n",
    "os.getcwd()"
   ]
  },
  {
   "cell_type": "code",
   "execution_count": null,
   "metadata": {},
   "outputs": [],
   "source": [
    "# Import Custom Modules\n",
    "from src.helpers import *"
   ]
  },
  {
   "cell_type": "code",
   "execution_count": null,
   "metadata": {},
   "outputs": [],
   "source": [
    "# Load Time Consuming Scraping Session Variables to Translate to DataFrames  \n",
    "dill.load_session('dill/notebook_env.db')\n",
    "\n",
    "# 1: Drunk Elephant - Protini Polypeptide Cream\n",
    "url_1, items_1, users_1 = item_1, item_info_1, user_info_1\n",
    "\n",
    "# 2: TATCHA - The Water Cream\n",
    "url_2, items_2, users_2 = item_2, item_info_2, user_info_2\n",
    "\n",
    "# 3: BELIF - The True Cream Aqua Bomb\n",
    "url_3, items_3, users_3 = item_3, item_info_3, user_info_3\n",
    "\n",
    "# 4: BOSCIA - Cactus Water Moisturizer\n",
    "url_4, items_4, users_4 = item_4, item_info_4, user_info_4\n",
    "\n",
    "# 5: OLEHENRIKSEN - C-Rush™ Vita\n",
    "url_5, items_5, users_5 = item_5, item_info_5, user_info_5\n",
    "\n",
    "# 6: CLINIQUE - Dramatically Different Moisturizing Gel\n",
    "url_6, items_6, users_6 = item_6, item_info_6, user_info_6\n",
    "\n",
    "# 7: ORIGINS - Ginzing Energy Boosting Gel Moisturizer\n",
    "url_7, items_7, users_7 = item_7, item_info_7, user_info_7\n",
    "\n",
    "# 8: JOSIE MARAN - 100 Percent Pure Argan Oil\n",
    "url_8, items_8, users_8 = item_8, item_info_8, user_info_8\n",
    "\n",
    "# 9: FIRST AID BEAUTY - Ultra Repair® Cream Intense Hydration\n",
    "url_9, items_9, users_9 = item_9, item_info_9, user_info_9\n",
    "\n",
    "# 10: Dr. Jart - Cicapair™ Tiger Grass Color Correcting Treatment\n",
    "url_10, items_10, users_10 = item_10, item_info_10, user_info_10\n",
    "\n",
    "item_urls = [url_1, url_2, url_3, url_4, url_5, url_6, url_7, url_8, url_9, url_10]\n",
    "item_collection = [items_1, items_2, items_3, items_4, items_5, items_6, items_7, items_8, items_9, items_10]\n",
    "user_collection = [users_1, users_2, users_3, users_4, users_5, users_6, users_7, users_8, users_9, users_10]"
   ]
  },
  {
   "cell_type": "markdown",
   "metadata": {},
   "source": [
    "## Create Item DataFrame"
   ]
  },
  {
   "cell_type": "code",
   "execution_count": null,
   "metadata": {},
   "outputs": [],
   "source": [
    "# Item Structure: item_url, item_brand, item_name, n_loves, avg_stars, ingredients, skin_target, n_reviews, five_stars, four_stars, three_stars, two_stars, one_stars, review_corpus"
   ]
  },
  {
   "cell_type": "code",
   "execution_count": null,
   "metadata": {},
   "outputs": [],
   "source": [
    "# Create item dataframe\n",
    "item_df = pd.DataFrame({\n",
    "    'item_url':item_urls,\n",
    "    'item_brand':[x[0] for x in item_collection],\n",
    "    'item_name':[x[1] for x in item_collection],\n",
    "    'n_loves':[x[2] for x in item_collection],\n",
    "    'avg_stars':[x[3] for x in item_collection], \n",
    "    'ingredients':[x[4] for x in item_collection], \n",
    "    'skin_target':[x[5] for x in item_collection], \n",
    "    'n_reviews':[x[6] for x in item_collection], \n",
    "    'star_dist':[x[7] for x in item_collection],\n",
    "    'review_corpus':[x[8] for x in item_collection]\n",
    "})"
   ]
  },
  {
   "cell_type": "code",
   "execution_count": null,
   "metadata": {},
   "outputs": [],
   "source": [
    "# Add Granulated star distribution\n",
    "item_df['five_stars'] = item_df['star_dist'].apply(lambda x: int(x[0].partition(':')[2]))\n",
    "item_df['four_stars'] = item_df['star_dist'].apply(lambda x: int(x[1].partition(':')[2]))\n",
    "item_df['three_stars'] = item_df['star_dist'].apply(lambda x: int(x[2].partition(':')[2]))\n",
    "item_df['two_stars'] = item_df['star_dist'].apply(lambda x: int(x[3].partition(':')[2]))\n",
    "item_df['one_stars'] = item_df['star_dist'].apply(lambda x: int(x[4].partition(':')[2]))\n",
    "\n",
    "item_df.drop(columns=['star_dist'], inplace=True)"
   ]
  },
  {
   "cell_type": "code",
   "execution_count": null,
   "metadata": {},
   "outputs": [],
   "source": [
    "item_df.head()"
   ]
  },
  {
   "cell_type": "markdown",
   "metadata": {},
   "source": [
    "## Create User DataFrame"
   ]
  },
  {
   "cell_type": "code",
   "execution_count": null,
   "metadata": {},
   "outputs": [],
   "source": [
    "# User Structure: item_url, item_brand, item_name ,user_id, user_meta, rating, review\n",
    "user_collection[0][0] # id, meta, rating, reivew, brand, item_name"
   ]
  },
  {
   "cell_type": "code",
   "execution_count": null,
   "metadata": {},
   "outputs": [],
   "source": [
    "# Create user dataframe\n",
    "user_df = pd.DataFrame({\n",
    "    'user_id':[x[0] for product in user_collection for x in product],\n",
    "    'user_meta':[x[1] for product in user_collection for x in product], \n",
    "    'star_rating':[x[2] for product in user_collection for x in product], \n",
    "    'review':[x[3] for product in user_collection for x in product],\n",
    "    'item_brand':[x[4] for product in user_collection for x in product],\n",
    "    'item_name':[x[5] for product in user_collection for x in product],\n",
    "})"
   ]
  },
  {
   "cell_type": "code",
   "execution_count": null,
   "metadata": {},
   "outputs": [],
   "source": [
    "# Granulate and Clean User Data\n",
    "\n",
    "# Cast star rating to int\n",
    "user_df['star_rating'] = user_df['star_rating'].apply(lambda x: re_max(x, int) if type(x) != int else x)\n",
    "\n",
    "# Remap items to numbers\n",
    "item_names = user_df['item_name'].unique().tolist()\n",
    "name_map = dict(zip(item_names, [f'item_{i}' for i in range(1, len(item_names) + 1)]))\n",
    "user_df['item_name'] = user_df['item_name'].map(name_map)\n",
    "\n",
    "# Remap brands to numbers\n",
    "item_brands = user_df['item_brand'].unique().tolist()\n",
    "brand_map = dict(zip(item_brands, [f'brand_{i}' for i in range(1, len(item_brands) + 1)]))\n",
    "user_df['item_brand'] = user_df['item_brand'].map(brand_map)\n"
   ]
  },
  {
   "cell_type": "code",
   "execution_count": null,
   "metadata": {},
   "outputs": [],
   "source": [
    "# Create dict from user meta info\n",
    "user_df['user_meta'] = user_df['user_meta'].apply(parse_user_meta)"
   ]
  },
  {
   "cell_type": "code",
   "execution_count": null,
   "metadata": {},
   "outputs": [],
   "source": [
    "# Granulate User Meta\n",
    "user_df['age'] = user_df['user_meta'].apply(lambda x: x.get('age', None))\n",
    "user_df['eye_color'] = user_df['user_meta'].apply(lambda x: x.get('eye color', None))\n",
    "user_df['hair_color'] = user_df['user_meta'].apply(lambda x: x.get('hair color', None))\n",
    "user_df['skin_tone'] = user_df['user_meta'].apply(lambda x: x.get('skin tone', None))\n",
    "user_df['skin_type'] = user_df['user_meta'].apply(lambda x: x.get('skin type', None))\n",
    "\n",
    "user_df.drop(columns=['user_meta'], inplace=True)"
   ]
  },
  {
   "cell_type": "code",
   "execution_count": null,
   "metadata": {},
   "outputs": [],
   "source": [
    "# Create timestamp element \n",
    "user_df['timestamp'] = user_df['review'].apply(lambda x: x.split('\\n')[0])\n",
    "# Convert and standardize all timestamps\n",
    "user_df['timestamp'] = user_df['timestamp'].apply(create_timestamp)"
   ]
  },
  {
   "cell_type": "code",
   "execution_count": null,
   "metadata": {},
   "outputs": [],
   "source": [
    "# Create 'verified' feature\n",
    "user_df['verified'] = user_df['review'].apply(lambda x: 1 if 'verified' in x.split('\\n')[0].lower() else 0)"
   ]
  },
  {
   "cell_type": "code",
   "execution_count": null,
   "metadata": {},
   "outputs": [],
   "source": [
    "user_df.info()"
   ]
  },
  {
   "cell_type": "code",
   "execution_count": null,
   "metadata": {},
   "outputs": [],
   "source": [
    "user_df.head()"
   ]
  },
  {
   "cell_type": "code",
   "execution_count": null,
   "metadata": {},
   "outputs": [],
   "source": [
    "user_df['verified'].value_counts()"
   ]
  }
 ],
 "metadata": {
  "kernelspec": {
   "display_name": "Python 3",
   "language": "python",
   "name": "python3"
  },
  "language_info": {
   "codemirror_mode": {
    "name": "ipython",
    "version": 3
   },
   "file_extension": ".py",
   "mimetype": "text/x-python",
   "name": "python",
   "nbconvert_exporter": "python",
   "pygments_lexer": "ipython3",
   "version": "3.7.6"
  }
 },
 "nbformat": 4,
 "nbformat_minor": 4
}

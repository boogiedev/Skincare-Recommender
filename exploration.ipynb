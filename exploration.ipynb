{
 "cells": [
  {
   "cell_type": "code",
   "execution_count": 1,
   "metadata": {},
   "outputs": [],
   "source": [
    "%load_ext autoreload\n",
    "%autoreload 2"
   ]
  },
  {
   "cell_type": "code",
   "execution_count": 2,
   "metadata": {},
   "outputs": [
    {
     "data": {
      "text/plain": [
       "'/home/jovyan/work/Capstone_3/Skincare-Recommender'"
      ]
     },
     "execution_count": 2,
     "metadata": {},
     "output_type": "execute_result"
    }
   ],
   "source": [
    "# Import Modules\n",
    "import ast\n",
    "import pandas as pd\n",
    "from pandas_profiling import ProfileReport\n",
    "\n",
    "\n",
    "import surprise\n",
    "from surprise import SVD\n",
    "from surprise import Reader\n",
    "from surprise import Dataset\n",
    "from surprise import accuracy\n",
    "\n",
    "from surprise.model_selection import train_test_split\n",
    "from surprise.model_selection import LeaveOneOut\n",
    "from surprise.model_selection import cross_validate\n",
    "from surprise import KNNBaseline\n",
    "from surprise import SVD, SVDpp, SlopeOne, NMF, NormalPredictor, KNNBaseline, KNNBasic, KNNWithMeans, KNNWithZScore, BaselineOnly, CoClustering\n",
    "\n",
    "import matplotlib.pyplot as plt\n",
    "import mplcyberpunk\n",
    "%matplotlib inline\n",
    "\n",
    "# plt.style.use('ggplot')\n",
    "plt.style.use(\"cyberpunk\")\n",
    "\n",
    "import os\n",
    "os.getcwd()"
   ]
  },
  {
   "cell_type": "code",
   "execution_count": 3,
   "metadata": {},
   "outputs": [],
   "source": [
    "# Import Custom Modules\n",
    "from src.helpers import *"
   ]
  },
  {
   "cell_type": "code",
   "execution_count": 4,
   "metadata": {},
   "outputs": [],
   "source": [
    "# Import Data\n",
    "items = pd.read_csv('data/item_df.csv')\n",
    "users = pd.read_csv('data/user_df.csv')\n",
    "\n",
    "# Make Changes to ingredients to be evaluated as list\n",
    "items['ingredients'] = items['ingredients'].apply(ast.literal_eval)"
   ]
  },
  {
   "cell_type": "code",
   "execution_count": 5,
   "metadata": {},
   "outputs": [],
   "source": [
    "# Only parse out needed features\n",
    "users_truncate = users[['user_id', 'item_name', 'star_rating']]"
   ]
  },
  {
   "cell_type": "code",
   "execution_count": 6,
   "metadata": {},
   "outputs": [
    {
     "data": {
      "text/html": [
       "<div>\n",
       "<style scoped>\n",
       "    .dataframe tbody tr th:only-of-type {\n",
       "        vertical-align: middle;\n",
       "    }\n",
       "\n",
       "    .dataframe tbody tr th {\n",
       "        vertical-align: top;\n",
       "    }\n",
       "\n",
       "    .dataframe thead th {\n",
       "        text-align: right;\n",
       "    }\n",
       "</style>\n",
       "<table border=\"1\" class=\"dataframe\">\n",
       "  <thead>\n",
       "    <tr style=\"text-align: right;\">\n",
       "      <th></th>\n",
       "      <th>user_id</th>\n",
       "      <th>item_name</th>\n",
       "      <th>star_rating</th>\n",
       "    </tr>\n",
       "  </thead>\n",
       "  <tbody>\n",
       "    <tr>\n",
       "      <th>0</th>\n",
       "      <td>harleen253</td>\n",
       "      <td>item_1</td>\n",
       "      <td>5</td>\n",
       "    </tr>\n",
       "    <tr>\n",
       "      <th>1</th>\n",
       "      <td>supremekaylap15</td>\n",
       "      <td>item_1</td>\n",
       "      <td>2</td>\n",
       "    </tr>\n",
       "    <tr>\n",
       "      <th>2</th>\n",
       "      <td>Alybug97</td>\n",
       "      <td>item_1</td>\n",
       "      <td>4</td>\n",
       "    </tr>\n",
       "    <tr>\n",
       "      <th>3</th>\n",
       "      <td>Mikachew</td>\n",
       "      <td>item_1</td>\n",
       "      <td>2</td>\n",
       "    </tr>\n",
       "    <tr>\n",
       "      <th>4</th>\n",
       "      <td>jkbean</td>\n",
       "      <td>item_1</td>\n",
       "      <td>2</td>\n",
       "    </tr>\n",
       "  </tbody>\n",
       "</table>\n",
       "</div>"
      ],
      "text/plain": [
       "           user_id item_name  star_rating\n",
       "0       harleen253    item_1            5\n",
       "1  supremekaylap15    item_1            2\n",
       "2         Alybug97    item_1            4\n",
       "3         Mikachew    item_1            2\n",
       "4           jkbean    item_1            2"
      ]
     },
     "execution_count": 6,
     "metadata": {},
     "output_type": "execute_result"
    }
   ],
   "source": [
    "users_truncate.head()"
   ]
  },
  {
   "cell_type": "code",
   "execution_count": 10,
   "metadata": {},
   "outputs": [
    {
     "data": {
      "text/plain": [
       "{'acrylates/c10-30 alkyl acrylate crosspolymer',\n",
       " 'ammonium acryloyldimethyltaurate/vp copolymer',\n",
       " 'bacillus/soybean/ folic acid ferment extract',\n",
       " 'caprylic / capric triglyceride',\n",
       " 'caprylic/capric triglyceride',\n",
       " 'coco-caprylate/caprate',\n",
       " 'dimethicone/peg-10/15 crosspolymer',\n",
       " 'dimethicone/phenyl vinyl dimethicone crosspolymer',\n",
       " 'epilobium angustifolium flower/leaf/stem extract',\n",
       " \"hordeum vulgare (barley) extract/extrait d'orge\",\n",
       " 'hydroxyethyl acrylate/sodium acryloyldimethyl taurate copolymer',\n",
       " 'lactic acid/glycolic acid copolymer',\n",
       " 'leuconostoc / radish root ferment filtrate',\n",
       " 'myrothamnus flabellifolia leaf/stem extract',\n",
       " 'ocimum basilicum (basil) flower/leaf extract',\n",
       " 'parfum/fragrance',\n",
       " 'peg/ppg/polybutylene glycol-8/5/3 glycerin',\n",
       " 'polyglyceryl-4 diisostearate/polyhydroxystearate/sebacate',\n",
       " 'saccharomyces/camellia sinensis leaf/cladosiphon okamuranus/rice ferment filtrate*',\n",
       " 'sodium acrylate/acryloyldimethyltaurate/dimethylacrylamide crosspolymer'}"
      ]
     },
     "execution_count": 10,
     "metadata": {},
     "output_type": "execute_result"
    }
   ],
   "source": [
    "ingredient_aliases = set()\n",
    "tmp = items['ingredients'].apply(clean_ingredients)\n",
    "\n",
    "for x in tmp:\n",
    "    for i in x:\n",
    "        if '/' in i:\n",
    "            ingredient_aliases.add(i)\n",
    "            \n",
    "            \n",
    "ingredient_aliases"
   ]
  }
 ],
 "metadata": {
  "kernelspec": {
   "display_name": "Python 3",
   "language": "python",
   "name": "python3"
  },
  "language_info": {
   "codemirror_mode": {
    "name": "ipython",
    "version": 3
   },
   "file_extension": ".py",
   "mimetype": "text/x-python",
   "name": "python",
   "nbconvert_exporter": "python",
   "pygments_lexer": "ipython3",
   "version": "3.7.6"
  }
 },
 "nbformat": 4,
 "nbformat_minor": 4
}
